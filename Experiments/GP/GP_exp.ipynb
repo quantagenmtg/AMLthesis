{
 "cells": [
  {
   "cell_type": "code",
   "execution_count": 1,
   "outputs": [],
   "source": [
    "import numpy as np\n",
    "\n",
    "from Windowing import *\n",
    "import torch\n",
    "from torch.linalg import inv, det"
   ],
   "metadata": {
    "collapsed": false,
    "pycharm": {
     "name": "#%%\n"
    }
   }
  },
  {
   "cell_type": "markdown",
   "source": [
    "# Introduction\n",
    "Here we implement and test the GP method"
   ],
   "metadata": {
    "collapsed": false,
    "pycharm": {
     "name": "#%% md\n"
    }
   }
  },
  {
   "cell_type": "markdown",
   "source": [
    "# Method"
   ],
   "metadata": {
    "collapsed": false,
    "pycharm": {
     "name": "#%% md\n"
    }
   }
  },
  {
   "cell_type": "code",
   "execution_count": 2,
   "outputs": [
    {
     "data": {
      "text/plain": "            Count\nsize_train       \n16            245\n23            246\n32            246\n40              1\n45            244\n...           ...\n1048576         2\n1482910         1\n1486391         1\n2097152         1\n2205023         1\n\n[201 rows x 1 columns]",
      "text/html": "<div>\n<style scoped>\n    .dataframe tbody tr th:only-of-type {\n        vertical-align: middle;\n    }\n\n    .dataframe tbody tr th {\n        vertical-align: top;\n    }\n\n    .dataframe thead th {\n        text-align: right;\n    }\n</style>\n<table border=\"1\" class=\"dataframe\">\n  <thead>\n    <tr style=\"text-align: right;\">\n      <th></th>\n      <th>Count</th>\n    </tr>\n    <tr>\n      <th>size_train</th>\n      <th></th>\n    </tr>\n  </thead>\n  <tbody>\n    <tr>\n      <th>16</th>\n      <td>245</td>\n    </tr>\n    <tr>\n      <th>23</th>\n      <td>246</td>\n    </tr>\n    <tr>\n      <th>32</th>\n      <td>246</td>\n    </tr>\n    <tr>\n      <th>40</th>\n      <td>1</td>\n    </tr>\n    <tr>\n      <th>45</th>\n      <td>244</td>\n    </tr>\n    <tr>\n      <th>...</th>\n      <td>...</td>\n    </tr>\n    <tr>\n      <th>1048576</th>\n      <td>2</td>\n    </tr>\n    <tr>\n      <th>1482910</th>\n      <td>1</td>\n    </tr>\n    <tr>\n      <th>1486391</th>\n      <td>1</td>\n    </tr>\n    <tr>\n      <th>2097152</th>\n      <td>1</td>\n    </tr>\n    <tr>\n      <th>2205023</th>\n      <td>1</td>\n    </tr>\n  </tbody>\n</table>\n<p>201 rows × 1 columns</p>\n</div>"
     },
     "metadata": {},
     "output_type": "display_data"
    }
   ],
   "source": [
    "win = Windowing(aggCurves)\n",
    "win.set_points([16,   23,   32,   45,   64,   91,  128,  181,  256,  362,  512,\n",
    "        724, 1024, 1448, 2048, 2896])"
   ],
   "metadata": {
    "collapsed": false,
    "pycharm": {
     "name": "#%%\n"
    }
   }
  },
  {
   "cell_type": "code",
   "execution_count": 5,
   "outputs": [
    {
     "data": {
      "text/plain": "(248, 20, 16)"
     },
     "execution_count": 5,
     "metadata": {},
     "output_type": "execute_result"
    }
   ],
   "source": [
    "win.segment.shape"
   ],
   "metadata": {
    "collapsed": false,
    "pycharm": {
     "name": "#%%\n"
    }
   }
  },
  {
   "cell_type": "code",
   "execution_count": 8,
   "outputs": [
    {
     "data": {
      "text/plain": "(248, 20, 15)"
     },
     "execution_count": 8,
     "metadata": {},
     "output_type": "execute_result"
    }
   ],
   "source": [
    "win.train.shape"
   ],
   "metadata": {
    "collapsed": false,
    "pycharm": {
     "name": "#%%\n"
    }
   }
  },
  {
   "cell_type": "code",
   "execution_count": 9,
   "outputs": [
    {
     "data": {
      "text/plain": "(248, 20, 15, 15)"
     },
     "execution_count": 9,
     "metadata": {},
     "output_type": "execute_result"
    }
   ],
   "source": [
    "win.data.shape"
   ],
   "metadata": {
    "collapsed": false,
    "pycharm": {
     "name": "#%%\n"
    }
   }
  },
  {
   "cell_type": "code",
   "execution_count": 44,
   "outputs": [
    {
     "data": {
      "text/plain": "(248, 20, 15)"
     },
     "execution_count": 44,
     "metadata": {},
     "output_type": "execute_result"
    }
   ],
   "source": [
    "win.target.shape"
   ],
   "metadata": {
    "collapsed": false,
    "pycharm": {
     "name": "#%%\n"
    }
   }
  },
  {
   "cell_type": "code",
   "execution_count": 45,
   "outputs": [
    {
     "data": {
      "text/plain": "array([0.6917696,       nan,       nan,       nan,       nan,       nan,\n             nan,       nan,       nan,       nan,       nan,       nan,\n             nan,       nan,       nan])"
     },
     "execution_count": 45,
     "metadata": {},
     "output_type": "execute_result"
    }
   ],
   "source": [
    "win.data[0,0,:,0]"
   ],
   "metadata": {
    "collapsed": false,
    "pycharm": {
     "name": "#%%\n"
    }
   }
  },
  {
   "cell_type": "code",
   "execution_count": 48,
   "outputs": [
    {
     "data": {
      "text/plain": "array([0.7354512, 0.7846216, 0.8307736, 0.8681464, 0.8978816, 0.9212488,\n       0.9391992, 0.9485776, 0.9562008, 0.9610792, 0.9648808, 0.9666088,\n       0.96946  , 0.9727528,       nan])"
     },
     "execution_count": 48,
     "metadata": {},
     "output_type": "execute_result"
    }
   ],
   "source": [
    "win.target[0,0]"
   ],
   "metadata": {
    "collapsed": false,
    "pycharm": {
     "name": "#%%\n"
    }
   }
  },
  {
   "cell_type": "code",
   "execution_count": 28,
   "outputs": [],
   "source": [
    "train_anchors = np.array(win.train_anchors)\n"
   ],
   "metadata": {
    "collapsed": false,
    "pycharm": {
     "name": "#%%\n"
    }
   }
  },
  {
   "cell_type": "code",
   "execution_count": 42,
   "outputs": [
    {
     "data": {
      "text/plain": "(15, 15)"
     },
     "execution_count": 42,
     "metadata": {},
     "output_type": "execute_result"
    }
   ],
   "source": [
    "cov = cov_kernel(train_anchors, train_anchors[...,None], np.array([1,1,1]))\n",
    "cov.shape"
   ],
   "metadata": {
    "collapsed": false,
    "pycharm": {
     "name": "#%%\n"
    }
   }
  },
  {
   "cell_type": "markdown",
   "source": [
    "## Functions for GP\n",
    "- Mean function (actually not required as we have a constant mean)\n",
    "- Covariance kernel\n",
    "- Log marginal likelihood for optimization of hyperparameters for GP\n",
    "- Prediction function"
   ],
   "metadata": {
    "collapsed": false,
    "pycharm": {
     "name": "#%% md\n"
    }
   }
  },
  {
   "cell_type": "code",
   "execution_count": 429,
   "outputs": [],
   "source": [
    "# def mean_func(X, param):\n",
    "#     '''\n",
    "#     We have a constant mean function, so it doesnt matter what the input is\n",
    "#\n",
    "#     :param param: constant mean used\n",
    "#     :return: mean function output at X\n",
    "#     '''\n",
    "#\n",
    "#     return param\n",
    "\n",
    "def cov_kernel(X1,X2, params):\n",
    "    '''\n",
    "    Exponential decay kernel plus additive noise used in Freeze-Thaw for learning curves\n",
    "\n",
    "    :param X1: Training anchors input 1\n",
    "    :param X2: Training anchors input 2\n",
    "    :param params: [alpha, beta, sigma_squared] parameters for the kernel\n",
    "    :return: covariance matrix output at X1,X2\n",
    "    '''\n",
    "    alpha, beta, sigma = params[...,None,None]\n",
    "    exp_decay = beta**alpha / (X1 + X2 + beta)**alpha\n",
    "    noise = sigma**2 * (X1 == X2)\n",
    "    return exp_decay + noise\n",
    "\n"
   ],
   "metadata": {
    "collapsed": false,
    "pycharm": {
     "name": "#%%\n"
    }
   }
  },
  {
   "cell_type": "code",
   "execution_count": 491,
   "outputs": [],
   "source": [
    "def log_marginal_likelihood(params, y, X):\n",
    "    cov = cov_kernel(X, X[...,None],params)\n",
    "    inv_cov = inv(cov)\n",
    "    matmul = torch.einsum('...i,...ij,...j', y, inv_cov, y)\n",
    "    det_cov = det(cov)\n",
    "    n = len(X)\n",
    "    res = -1/2 * matmul\n",
    "    return res"
   ],
   "metadata": {
    "collapsed": false,
    "pycharm": {
     "name": "#%%\n"
    }
   }
  },
  {
   "cell_type": "code",
   "execution_count": 467,
   "outputs": [
    {
     "data": {
      "text/plain": "tensor([16., 23., 32.])"
     },
     "execution_count": 467,
     "metadata": {},
     "output_type": "execute_result"
    }
   ],
   "source": [
    "X"
   ],
   "metadata": {
    "collapsed": false,
    "pycharm": {
     "name": "#%%\n"
    }
   }
  },
  {
   "cell_type": "code",
   "execution_count": 492,
   "outputs": [
    {
     "name": "stdout",
     "output_type": "stream",
     "text": [
      "tensor(0.1950, grad_fn=<NegBackward0>)\n",
      "tensor(0.0428, grad_fn=<NegBackward0>)\n",
      "tensor(0.0289, grad_fn=<NegBackward0>)\n",
      "tensor(0.0224, grad_fn=<NegBackward0>)\n",
      "tensor(0.0185, grad_fn=<NegBackward0>)\n",
      "tensor(0.0159, grad_fn=<NegBackward0>)\n",
      "tensor(0.0140, grad_fn=<NegBackward0>)\n",
      "tensor(0.0126, grad_fn=<NegBackward0>)\n",
      "tensor(0.0115, grad_fn=<NegBackward0>)\n",
      "tensor(0.0105, grad_fn=<NegBackward0>)\n"
     ]
    }
   ],
   "source": [
    "lr = 0.01\n",
    "y = 1- torch.tensor(win.data[0,0,:,-1], dtype=torch.float32)\n",
    "X = torch.tensor(win.train_anchors, dtype=torch.float32)\n",
    "params = torch.tensor([0.5,0.5,0.5], dtype=torch.float32).requires_grad_(True)\n",
    "\n",
    "optimizer = torch.optim.AdamW([params], lr=lr)\n",
    "\n",
    "prob = []\n",
    "params_list = []\n",
    "for i in range(1000):\n",
    "    optimizer.zero_grad()\n",
    "    loss = -log_marginal_likelihood(params, y, X)\n",
    "    prob.append(np.exp(-loss.item()))\n",
    "    params_list.append(params.clone().detach().numpy())\n",
    "    loss.backward()\n",
    "    optimizer.step()\n",
    "    if i % 100 == 0:\n",
    "        print(loss)"
   ],
   "metadata": {
    "collapsed": false,
    "pycharm": {
     "name": "#%%\n"
    }
   }
  },
  {
   "cell_type": "code",
   "execution_count": 480,
   "outputs": [],
   "source": [
    "torch.tensor(params_list[11])\n",
    "cov = cov_kernel(X, X[...,None],torch.tensor(params_list[-1]))\n",
    "inv_cov = inv(cov)\n",
    "matmul = torch.einsum('...i,...ij,...j', y, inv_cov, y)\n",
    "det_cov = det(cov)\n",
    "n = len(X)\n",
    "res = -1/2 * matmul -1/2 * torch.log(det_cov) - n/2 * torch.log(torch.tensor(2*torch.pi))\n",
    "res2 = 1/((2*np.pi)**n * det_cov) * torch.exp(-1/2 * matmul)"
   ],
   "metadata": {
    "collapsed": false,
    "pycharm": {
     "name": "#%%\n"
    }
   }
  },
  {
   "cell_type": "code",
   "execution_count": 493,
   "outputs": [
    {
     "data": {
      "text/plain": "[array([0.5, 0.5, 0.5], dtype=float32),\n array([0.48995, 0.50995, 0.50995], dtype=float32),\n array([0.47992206, 0.5198651 , 0.5198769 ], dtype=float32),\n array([0.46992996, 0.5297236 , 0.52976733], dtype=float32),\n array([0.45998734, 0.5395044 , 0.53960866], dtype=float32),\n array([0.4501074 , 0.54918766, 0.5493895 ], dtype=float32),\n array([0.44030297, 0.5587546 , 0.5590994 ], dtype=float32),\n array([0.4305864 , 0.56818795, 0.56872904], dtype=float32),\n array([0.4209695, 0.5774718, 0.5782702], dtype=float32),\n array([0.41146344, 0.5865916 , 0.5877157 ], dtype=float32),\n array([0.40207884, 0.59553456, 0.59705937], dtype=float32),\n array([0.3928256 , 0.60428935, 0.606296  ], dtype=float32),\n array([0.38371295, 0.61284626, 0.6154214 ], dtype=float32),\n array([0.37474933, 0.621197  , 0.62443215], dtype=float32),\n array([0.36594254, 0.6293348 , 0.6333257 ], dtype=float32),\n array([0.35729966, 0.63725436, 0.6421003 ], dtype=float32),\n array([0.348827  , 0.64495164, 0.6507548 ], dtype=float32),\n array([0.3405302, 0.6524239, 0.6592888], dtype=float32),\n array([0.33241418, 0.6596696 , 0.6677025 ], dtype=float32),\n array([0.3244832, 0.6666881, 0.6759965], dtype=float32),\n array([0.31674084, 0.6734799 , 0.68417186], dtype=float32),\n array([0.3091901 , 0.68004644, 0.69223017], dtype=float32),\n array([0.30183333, 0.6863898 , 0.70017326], dtype=float32),\n array([0.29467237, 0.69251287, 0.7080034 ], dtype=float32),\n array([0.2877085 , 0.69841915, 0.71572304], dtype=float32),\n array([0.28094244, 0.7041126 , 0.72333485], dtype=float32),\n array([0.27437457, 0.7095977 , 0.7308417 ], dtype=float32),\n array([0.26800475, 0.71487933, 0.7382466 ], dtype=float32),\n array([0.26183248, 0.7199627 , 0.74555266], dtype=float32),\n array([0.25585678, 0.7248533 , 0.7527631 ], dtype=float32),\n array([0.25007644, 0.72955674, 0.7598811 ], dtype=float32),\n array([0.24448994, 0.7340788 , 0.76690996], dtype=float32),\n array([0.23909536, 0.7384255 , 0.77385294], dtype=float32),\n array([0.2338906 , 0.7426027 , 0.78071326], dtype=float32),\n array([0.22887327, 0.74661654, 0.7874941 ], dtype=float32),\n array([0.22404079, 0.75047296, 0.79419875], dtype=float32),\n array([0.21939036, 0.754178  , 0.8008301 ], dtype=float32),\n array([0.21491897, 0.75773746, 0.8073913 ], dtype=float32),\n array([0.21062347, 0.76115733, 0.81388515], dtype=float32),\n array([0.20650053, 0.7644433 , 0.8203145 ], dtype=float32),\n array([0.20254669, 0.76760095, 0.82668215], dtype=float32),\n array([0.19875833, 0.7706359 , 0.8329905 ], dtype=float32),\n array([0.19513173, 0.7735535 , 0.83924216], dtype=float32),\n array([0.19166304, 0.7763589 , 0.84543943], dtype=float32),\n array([0.18834835, 0.7790572 , 0.8515845 ], dtype=float32),\n array([0.1851836, 0.7816534, 0.8576795], dtype=float32),\n array([0.18216468, 0.7841522 , 0.86372644], dtype=float32),\n array([0.1792874, 0.7865583, 0.8697272], dtype=float32),\n array([0.17654751, 0.788876  , 0.8756834 ], dtype=float32),\n array([0.17394067, 0.7911096 , 0.8815968 ], dtype=float32),\n array([0.17146255, 0.7932634 , 0.8874688 ], dtype=float32),\n array([0.16910872, 0.7953411 , 0.89330083], dtype=float32),\n array([0.16687477, 0.79734653, 0.89909416], dtype=float32),\n array([0.16475624, 0.79928344, 0.90485   ], dtype=float32),\n array([0.16274866, 0.80115527, 0.9105695 ], dtype=float32),\n array([0.16084759, 0.8029654 , 0.9162535 ], dtype=float32),\n array([0.15904853, 0.80471694, 0.9219031 ], dtype=float32),\n array([0.15734707, 0.80641294, 0.9275189 ], dtype=float32),\n array([0.1557388 , 0.8080563 , 0.93310183], dtype=float32),\n array([0.15421934, 0.80964977, 0.9386525 ], dtype=float32),\n array([0.15278436, 0.811196  , 0.9441716 ], dtype=float32),\n array([0.15142961, 0.8126976 , 0.94965965], dtype=float32),\n array([0.15015085, 0.8141568 , 0.95511705], dtype=float32),\n array([0.14894396, 0.8155759 , 0.96054435], dtype=float32),\n array([0.1478049 , 0.8169571 , 0.96594197], dtype=float32),\n array([0.14672972, 0.81830245, 0.97131026], dtype=float32),\n array([0.14571454, 0.8196139 , 0.9766496 ], dtype=float32),\n array([0.1447556 , 0.8208932 , 0.98196024], dtype=float32),\n array([0.14384925, 0.8221422 , 0.9872425 ], dtype=float32),\n array([0.14299197, 0.8233624 , 0.99249667], dtype=float32),\n array([0.14218035, 0.82455546, 0.997723  ], dtype=float32),\n array([0.1414111 , 0.82572275, 1.0029217 ], dtype=float32),\n array([0.14068103, 0.82686573, 1.008093  ], dtype=float32),\n array([0.13998713, 0.82798576, 1.013237  ], dtype=float32),\n array([0.13932648, 0.829084  , 1.018354  ], dtype=float32),\n array([0.13869633, 0.8301616 , 1.0234443 ], dtype=float32),\n array([0.13809402, 0.8312196 , 1.0285078 ], dtype=float32),\n array([0.13751706, 0.8322591 , 1.0335449 ], dtype=float32),\n array([0.13696308, 0.83328104, 1.0385557 ], dtype=float32),\n array([0.13642983, 0.8342863 , 1.0435405 ], dtype=float32),\n array([0.13591519, 0.83527565, 1.0484992 ], dtype=float32),\n array([0.13541721, 0.83625   , 1.0534323 ], dtype=float32),\n array([0.134934  , 0.83721006, 1.05834   ], dtype=float32),\n array([0.13446382, 0.83815646, 1.0632223 ], dtype=float32),\n array([0.13400507, 0.83908993, 1.0680796 ], dtype=float32),\n array([0.13355626, 0.840011  , 1.072912  ], dtype=float32),\n array([0.13311598, 0.8409202 , 1.0777197 ], dtype=float32),\n array([0.13268295, 0.84181815, 1.082503  ], dtype=float32),\n array([0.13225597, 0.84270525, 1.087262  ], dtype=float32),\n array([0.13183399, 0.843582  , 1.0919971 ], dtype=float32),\n array([0.13141601, 0.84444875, 1.0967084 ], dtype=float32),\n array([0.13100114, 0.845306  , 1.1013961 ], dtype=float32),\n array([0.13058859, 0.84615403, 1.1060605 ], dtype=float32),\n array([0.1301776 , 0.84699315, 1.1107018 ], dtype=float32),\n array([0.12976754, 0.8478237 , 1.1153203 ], dtype=float32),\n array([0.12935781, 0.8486459 , 1.1199162 ], dtype=float32),\n array([0.12894794, 0.8494601 , 1.1244897 ], dtype=float32),\n array([0.12853746, 0.8502666 , 1.1290412 ], dtype=float32),\n array([0.12812597, 0.8510654 , 1.1335708 ], dtype=float32),\n array([0.12771316, 0.8518568 , 1.1380788 ], dtype=float32),\n array([0.12729874, 0.8526411 , 1.1425655 ], dtype=float32),\n array([0.12688251, 0.85341835, 1.1470311 ], dtype=float32),\n array([0.12646423, 0.85418874, 1.1514759 ], dtype=float32),\n array([0.1260438 , 0.85495245, 1.1559001 ], dtype=float32),\n array([0.1256211 , 0.85570955, 1.160304  ], dtype=float32),\n array([0.12519605, 0.8564602 , 1.1646878 ], dtype=float32),\n array([0.12476862, 0.85720456, 1.1690516 ], dtype=float32),\n array([0.12433878, 0.8579427 , 1.1733959 ], dtype=float32),\n array([0.12390655, 0.85867465, 1.1777209 ], dtype=float32),\n array([0.12347196, 0.8594006 , 1.1820267 ], dtype=float32),\n array([0.12303507, 0.86012053, 1.1863136 ], dtype=float32),\n array([0.12259592, 0.8608346 , 1.1905819 ], dtype=float32),\n array([0.12215463, 0.8615429 , 1.1948317 ], dtype=float32),\n array([0.12171128, 0.8622453 , 1.1990635 ], dtype=float32),\n array([0.121266 , 0.8629421, 1.2032773], dtype=float32),\n array([0.1208189, 0.8636332, 1.2074733], dtype=float32),\n array([0.1203701, 0.8643188, 1.2116518], dtype=float32),\n array([0.11991975, 0.8649988 , 1.215813  ], dtype=float32),\n array([0.11946797, 0.86567336, 1.2199572 ], dtype=float32),\n array([0.11901493, 0.8663424 , 1.2240845 ], dtype=float32),\n array([0.11856077, 0.8670061 , 1.2281952 ], dtype=float32),\n array([0.11810562, 0.86766446, 1.2322894 ], dtype=float32),\n array([0.11764965, 0.8683175 , 1.2363673 ], dtype=float32),\n array([0.11719301, 0.8689652 , 1.2404293 ], dtype=float32),\n array([0.11673583, 0.8696077 , 1.2444754 ], dtype=float32),\n array([0.11627827, 0.870245  , 1.2485058 ], dtype=float32),\n array([0.11582047, 0.8708771 , 1.2525208 ], dtype=float32),\n array([0.11536256, 0.87150407, 1.2565204 ], dtype=float32),\n array([0.11490469, 0.872126  , 1.260505  ], dtype=float32),\n array([0.11444701, 0.87274283, 1.2644745 ], dtype=float32),\n array([0.11398962, 0.8733546 , 1.2684293 ], dtype=float32),\n array([0.11353266, 0.8739614 , 1.2723695 ], dtype=float32),\n array([0.11307625, 0.87456316, 1.2762952 ], dtype=float32),\n array([0.1126205, 0.87516  , 1.2802067], dtype=float32),\n array([0.11216552, 0.8757519 , 1.2841041 ], dtype=float32),\n array([0.11171141, 0.87633896, 1.2879876 ], dtype=float32),\n array([0.11125829, 0.87692124, 1.2918571 ], dtype=float32),\n array([0.11080624, 0.8774987 , 1.2957131 ], dtype=float32),\n array([0.11035535, 0.87807137, 1.2995555 ], dtype=float32),\n array([0.10990572, 0.87863934, 1.3033847 ], dtype=float32),\n array([0.10945741, 0.8792026 , 1.3072004 ], dtype=float32),\n array([0.1090105, 0.8797612, 1.3110031], dtype=float32),\n array([0.10856505, 0.8803152 , 1.3147929 ], dtype=float32),\n array([0.10812113, 0.88086456, 1.3185698 ], dtype=float32),\n array([0.10767881, 0.8814094 , 1.322334  ], dtype=float32),\n array([0.10723813, 0.8819497 , 1.3260857 ], dtype=float32),\n array([0.10679913, 0.8824855 , 1.3298248 ], dtype=float32),\n array([0.10636188, 0.8830168 , 1.3335516 ], dtype=float32),\n array([0.10592641, 0.8835437 , 1.3372662 ], dtype=float32),\n array([0.10549275, 0.8840663 , 1.3409687 ], dtype=float32),\n array([0.10506094, 0.88458455, 1.3446592 ], dtype=float32),\n array([0.104631  , 0.88509846, 1.3483379 ], dtype=float32),\n array([0.10420296, 0.8856081 , 1.3520048 ], dtype=float32),\n array([0.10377685, 0.88611346, 1.3556601 ], dtype=float32),\n array([0.10335267, 0.8866147 , 1.3593038 ], dtype=float32),\n array([0.10293046, 0.8871117 , 1.3629361 ], dtype=float32),\n array([0.1025102, 0.8876046, 1.366557 ], dtype=float32),\n array([0.10209192, 0.8880934 , 1.3701665 ], dtype=float32),\n array([0.10167563, 0.8885782 , 1.373765  ], dtype=float32),\n array([0.10126132, 0.8890589 , 1.3773524 ], dtype=float32),\n array([0.100849 , 0.8895356, 1.3809288], dtype=float32),\n array([0.10043865, 0.8900084 , 1.3844943 ], dtype=float32),\n array([0.1000303, 0.8904773, 1.388049 ], dtype=float32),\n array([0.09962393, 0.89094234, 1.3915931 ], dtype=float32),\n array([0.09921954, 0.8914035 , 1.3951266 ], dtype=float32),\n array([0.09881711, 0.89186084, 1.3986496 ], dtype=float32),\n array([0.09841663, 0.8923144 , 1.4021622 ], dtype=float32),\n array([0.09801811, 0.8927642 , 1.4056644 ], dtype=float32),\n array([0.09762152, 0.89321035, 1.4091564 ], dtype=float32),\n array([0.09722686, 0.8936528 , 1.4126383 ], dtype=float32),\n array([0.0968341, 0.8940916, 1.41611  ], dtype=float32),\n array([0.09644324, 0.89452684, 1.4195718 ], dtype=float32),\n array([0.09605425, 0.8949585 , 1.4230236 ], dtype=float32),\n array([0.09566713, 0.8953866 , 1.4264655 ], dtype=float32),\n array([0.09528186, 0.8958112 , 1.4298977 ], dtype=float32),\n array([0.09489842, 0.89623237, 1.43332   ], dtype=float32),\n array([0.09451679, 0.8966501 , 1.4367328 ], dtype=float32),\n array([0.09413695, 0.8970643 , 1.4401361 ], dtype=float32),\n array([0.0937589 , 0.89747524, 1.4435298 ], dtype=float32),\n array([0.09338259, 0.89788276, 1.4469142 ], dtype=float32),\n array([0.09300803, 0.89828694, 1.4502891 ], dtype=float32),\n array([0.09263518, 0.8986879 , 1.4536548 ], dtype=float32),\n array([0.09226404, 0.8990856 , 1.4570112 ], dtype=float32),\n array([0.09189458, 0.89948   , 1.4603586 ], dtype=float32),\n array([0.09152678, 0.89987123, 1.4636968 ], dtype=float32),\n array([0.09116063, 0.9002593 , 1.4670261 ], dtype=float32),\n array([0.09079611, 0.90064424, 1.4703463 ], dtype=float32),\n array([0.0904332 , 0.90102607, 1.4736577 ], dtype=float32),\n array([0.09007188, 0.9014048 , 1.4769603 ], dtype=float32),\n array([0.08971214, 0.9017804 , 1.4802542 ], dtype=float32),\n array([0.08935394, 0.9021531 , 1.4835393 ], dtype=float32),\n array([0.08899729, 0.9025227 , 1.4868158 ], dtype=float32),\n array([0.08864215, 0.9028893 , 1.4900838 ], dtype=float32),\n array([0.08828852, 0.90325296, 1.4933432 ], dtype=float32),\n array([0.08793636, 0.9036137 , 1.4965942 ], dtype=float32),\n array([0.08758568, 0.90397155, 1.4998367 ], dtype=float32),\n array([0.08723645, 0.9043265 , 1.503071  ], dtype=float32),\n array([0.08688866, 0.9046786 , 1.5062969 ], dtype=float32),\n array([0.08654228, 0.9050278 , 1.5095146 ], dtype=float32),\n array([0.0861973, 0.9053742, 1.5127242], dtype=float32),\n array([0.08585372, 0.9057179 , 1.5159256 ], dtype=float32),\n array([0.08551151, 0.9060588 , 1.519119  ], dtype=float32),\n array([0.08517066, 0.9063969 , 1.5223043 ], dtype=float32),\n array([0.08483116, 0.9067323 , 1.5254817 ], dtype=float32),\n array([0.08449298, 0.9070651 , 1.5286512 ], dtype=float32),\n array([0.08415613, 0.9073951 , 1.5318128 ], dtype=float32),\n array([0.08382057, 0.90772253, 1.5349667 ], dtype=float32),\n array([0.0834863, 0.9080473, 1.5381128], dtype=float32),\n array([0.08315331, 0.9083695 , 1.5412512 ], dtype=float32),\n array([0.0828216, 0.9086891, 1.544382 ], dtype=float32),\n array([0.08249113, 0.90900606, 1.5475051 ], dtype=float32),\n array([0.08216191, 0.90932053, 1.5506208 ], dtype=float32),\n array([0.08183391, 0.90963244, 1.5537289 ], dtype=float32),\n array([0.08150713, 0.9099419 , 1.5568296 ], dtype=float32),\n array([0.08118156, 0.9102488 , 1.5599229 ], dtype=float32),\n array([0.08085719, 0.9105533 , 1.5630089 ], dtype=float32),\n array([0.080534 , 0.9108553, 1.5660876], dtype=float32),\n array([0.08021199, 0.9111549 , 1.569159  ], dtype=float32),\n array([0.07989115, 0.9114521 , 1.5722232 ], dtype=float32),\n array([0.07957146, 0.9117469 , 1.5752802 ], dtype=float32),\n array([0.07925291, 0.91203934, 1.57833   ], dtype=float32),\n array([0.0789355 , 0.91232944, 1.5813729 ], dtype=float32),\n array([0.07861922, 0.91261715, 1.5844086 ], dtype=float32),\n array([0.07830405, 0.91290253, 1.5874375 ], dtype=float32),\n array([0.07799  , 0.9131856, 1.5904593], dtype=float32),\n array([0.07767703, 0.9134664 , 1.5934743 ], dtype=float32),\n array([0.07736516, 0.9137449 , 1.5964823 ], dtype=float32),\n array([0.07705437, 0.9140212 , 1.5994836 ], dtype=float32),\n array([0.07674467, 0.9142952 , 1.602478  ], dtype=float32),\n array([0.07643602, 0.914567  , 1.6054658 ], dtype=float32),\n array([0.07612843, 0.9148366 , 1.6084468 ], dtype=float32),\n array([0.07582189, 0.91510403, 1.6114212 ], dtype=float32),\n array([0.0755164, 0.9153692, 1.614389 ], dtype=float32),\n array([0.07521193, 0.9156323 , 1.6173502 ], dtype=float32),\n array([0.07490849, 0.91589326, 1.6203048 ], dtype=float32),\n array([0.07460608, 0.91615206, 1.623253  ], dtype=float32),\n array([0.07430467, 0.9164088 , 1.6261947 ], dtype=float32),\n array([0.07400428, 0.91666335, 1.62913   ], dtype=float32),\n array([0.07370488, 0.9169159 , 1.6320589 ], dtype=float32),\n array([0.07340648, 0.9171663 , 1.6349814 ], dtype=float32),\n array([0.07310906, 0.91741467, 1.6378976 ], dtype=float32),\n array([0.07281262, 0.9176611 , 1.6408076 ], dtype=float32),\n array([0.07251715, 0.9179054 , 1.6437113 ], dtype=float32),\n array([0.07222264, 0.91814774, 1.6466088 ], dtype=float32),\n array([0.07192909, 0.91838807, 1.6495001 ], dtype=float32),\n array([0.07163649, 0.9186264 , 1.6523854 ], dtype=float32),\n array([0.07134484, 0.9188628 , 1.6552645 ], dtype=float32),\n array([0.07105412, 0.91909724, 1.6581376 ], dtype=float32),\n array([0.07076435, 0.9193297 , 1.6610047 ], dtype=float32),\n array([0.0704755, 0.9195602, 1.6638657], dtype=float32),\n array([0.07018757, 0.91978884, 1.6667207 ], dtype=float32),\n array([0.06990056, 0.9200156 , 1.66957   ], dtype=float32),\n array([0.06961446, 0.9202404 , 1.6724132 ], dtype=float32),\n array([0.06932925, 0.9204634 , 1.6752506 ], dtype=float32),\n array([0.06904496, 0.92068446, 1.6780822 ], dtype=float32),\n array([0.06876155, 0.9209037 , 1.680908  ], dtype=float32),\n array([0.06847903, 0.92112106, 1.6837281 ], dtype=float32),\n array([0.0681974, 0.9213366, 1.6865424], dtype=float32),\n array([0.06791664, 0.92155033, 1.689351  ], dtype=float32),\n array([0.06763675, 0.9217623 , 1.6921539 ], dtype=float32),\n array([0.06735773, 0.9219724 , 1.6949512 ], dtype=float32),\n array([0.06707957, 0.9221808 , 1.6977429 ], dtype=float32),\n array([0.06680226, 0.92238736, 1.7005291 ], dtype=float32),\n array([0.0665258 , 0.92259216, 1.7033097 ], dtype=float32),\n array([0.06625018, 0.92279524, 1.7060847 ], dtype=float32),\n array([0.06597541, 0.9229966 , 1.7088543 ], dtype=float32),\n array([0.06570146, 0.9231962 , 1.7116184 ], dtype=float32),\n array([0.06542835, 0.9233941 , 1.7143772 ], dtype=float32),\n array([0.06515606, 0.9235903 , 1.7171305 ], dtype=float32),\n array([0.06488458, 0.9237848 , 1.7198784 ], dtype=float32),\n array([0.06461392, 0.9239776 , 1.722621  ], dtype=float32),\n array([0.06434408, 0.92416877, 1.7253582 ], dtype=float32),\n array([0.06407503, 0.92435825, 1.7280902 ], dtype=float32),\n array([0.06380679, 0.92454606, 1.7308168 ], dtype=float32),\n array([0.06353933, 0.92473227, 1.7335384 ], dtype=float32),\n array([0.06327268, 0.9249168 , 1.7362547 ], dtype=float32),\n array([0.06300681, 0.92509973, 1.7389657 ], dtype=float32),\n array([0.06274172, 0.9252811 , 1.7416717 ], dtype=float32),\n array([0.06247741, 0.9254608 , 1.7443725 ], dtype=float32),\n array([0.06221386, 0.925639  , 1.7470682 ], dtype=float32),\n array([0.06195109, 0.9258155 , 1.7497588 ], dtype=float32),\n array([0.06168908, 0.92599046, 1.7524445 ], dtype=float32),\n array([0.06142782, 0.92616385, 1.7551252 ], dtype=float32),\n array([0.06116733, 0.92633575, 1.7578007 ], dtype=float32),\n array([0.06090758, 0.9265061 , 1.7604713 ], dtype=float32),\n array([0.06064857, 0.92667484, 1.763137  ], dtype=float32),\n array([0.06039031, 0.9268421 , 1.7657977 ], dtype=float32),\n array([0.06013278, 0.92700785, 1.7684535 ], dtype=float32),\n array([0.05987598, 0.92717206, 1.7711045 ], dtype=float32),\n array([0.05961991, 0.9273348 , 1.7737505 ], dtype=float32),\n array([0.05936457, 0.927496  , 1.7763919 ], dtype=float32),\n array([0.05910994, 0.9276558 , 1.7790284 ], dtype=float32),\n array([0.05885604, 0.92781407, 1.7816601 ], dtype=float32),\n array([0.05860284, 0.9279709 , 1.784287  ], dtype=float32),\n array([0.05835035, 0.9281263 , 1.7869092 ], dtype=float32),\n array([0.05809857, 0.92828023, 1.7895268 ], dtype=float32),\n array([0.05784748, 0.9284327 , 1.7921398 ], dtype=float32),\n array([0.05759709, 0.92858374, 1.794748  ], dtype=float32),\n array([0.0573474, 0.9287334, 1.7973515], dtype=float32),\n array([0.05709839, 0.92888165, 1.7999504 ], dtype=float32),\n array([0.05685006, 0.92902845, 1.8025447 ], dtype=float32),\n array([0.05660242, 0.9291739 , 1.8051345 ], dtype=float32),\n array([0.05635545, 0.92931795, 1.8077197 ], dtype=float32),\n array([0.05610916, 0.92946064, 1.8103004 ], dtype=float32),\n array([0.05586353, 0.9296019 , 1.8128765 ], dtype=float32),\n array([0.05561857, 0.9297418 , 1.8154482 ], dtype=float32),\n array([0.05537428, 0.9298804 , 1.8180155 ], dtype=float32),\n array([0.05513063, 0.93001765, 1.8205782 ], dtype=float32),\n array([0.05488765, 0.9301535 , 1.8231367 ], dtype=float32),\n array([0.05464531, 0.930288  , 1.8256906 ], dtype=float32),\n array([0.05440362, 0.93042123, 1.8282402 ], dtype=float32),\n array([0.05416258, 0.93055314, 1.8307854 ], dtype=float32),\n array([0.05392217, 0.93068373, 1.8333262 ], dtype=float32),\n array([0.05368241, 0.930813  , 1.8358628 ], dtype=float32),\n array([0.05344327, 0.930941  , 1.838395  ], dtype=float32),\n array([0.05320477, 0.9310677 , 1.840923  ], dtype=float32),\n array([0.05296689, 0.9311931 , 1.8434466 ], dtype=float32),\n array([0.05272964, 0.9313172 , 1.845966  ], dtype=float32),\n array([0.05249301, 0.93144006, 1.8484812 ], dtype=float32),\n array([0.05225699, 0.93156165, 1.8509922 ], dtype=float32),\n array([0.05202159, 0.931682  , 1.853499  ], dtype=float32),\n array([0.0517868, 0.9318011, 1.8560017], dtype=float32),\n array([0.05155261, 0.9319189 , 1.8585002 ], dtype=float32),\n array([0.05131903, 0.9320355 , 1.8609947 ], dtype=float32),\n array([0.05108605, 0.9321509 , 1.863485  ], dtype=float32),\n array([0.05085367, 0.93226504, 1.8659712 ], dtype=float32),\n array([0.05062188, 0.932378  , 1.8684533 ], dtype=float32),\n array([0.05039069, 0.9324897 , 1.8709313 ], dtype=float32),\n array([0.05016008, 0.9326002 , 1.8734052 ], dtype=float32),\n array([0.04993006, 0.9327095 , 1.8758752 ], dtype=float32),\n array([0.04970062, 0.93281764, 1.8783412 ], dtype=float32),\n array([0.04947176, 0.9329246 , 1.8808032 ], dtype=float32),\n array([0.04924348, 0.9330304 , 1.8832613 ], dtype=float32),\n array([0.04901576, 0.93313503, 1.8857154 ], dtype=float32),\n array([0.04878862, 0.93323845, 1.8881656 ], dtype=float32),\n array([0.04856205, 0.9333407 , 1.8906119 ], dtype=float32),\n array([0.04833604, 0.9334419 , 1.8930542 ], dtype=float32),\n array([0.04811059, 0.9335419 , 1.8954928 ], dtype=float32),\n array([0.0478857, 0.9336408, 1.8979274], dtype=float32),\n array([0.04766137, 0.93373847, 1.9003582 ], dtype=float32),\n array([0.04743759, 0.933835  , 1.9027852 ], dtype=float32),\n array([0.04721436, 0.93393046, 1.9052083 ], dtype=float32),\n array([0.04699168, 0.93402475, 1.9076277 ], dtype=float32),\n array([0.04676954, 0.934118  , 1.9100432 ], dtype=float32),\n array([0.04654795, 0.9342101 , 1.912455  ], dtype=float32),\n array([0.04632689, 0.9343011 , 1.9148629 ], dtype=float32),\n array([0.04610637, 0.93439096, 1.9172671 ], dtype=float32),\n array([0.04588639, 0.9344798 , 1.9196676 ], dtype=float32),\n array([0.04566694, 0.9345675 , 1.9220644 ], dtype=float32),\n array([0.04544802, 0.9346542 , 1.9244576 ], dtype=float32),\n array([0.04522962, 0.93473977, 1.926847  ], dtype=float32),\n array([0.04501176, 0.9348243 , 1.9292327 ], dtype=float32),\n array([0.04479441, 0.9349077 , 1.9316149 ], dtype=float32),\n array([0.04457758, 0.93499005, 1.9339933 ], dtype=float32),\n array([0.04436126, 0.93507135, 1.9363682 ], dtype=float32),\n array([0.04414546, 0.93515164, 1.9387395 ], dtype=float32),\n array([0.04393017, 0.93523085, 1.9411073 ], dtype=float32),\n array([0.0437154 , 0.93530905, 1.9434714 ], dtype=float32),\n array([0.04350112, 0.93538624, 1.945832  ], dtype=float32),\n array([0.04328735, 0.93546236, 1.948189  ], dtype=float32),\n array([0.04307409, 0.93553746, 1.9505426 ], dtype=float32),\n array([0.04286132, 0.93561155, 1.9528925 ], dtype=float32),\n array([0.04264905, 0.9356846 , 1.9552392 ], dtype=float32),\n array([0.04243727, 0.9357567 , 1.9575824 ], dtype=float32),\n array([0.04222599, 0.93582773, 1.9599221 ], dtype=float32),\n array([0.04201519, 0.9358978 , 1.9622583 ], dtype=float32),\n array([0.04180489, 0.9359669 , 1.9645911 ], dtype=float32),\n array([0.04159507, 0.936035  , 1.9669205 ], dtype=float32),\n array([0.04138573, 0.93610203, 1.9692464 ], dtype=float32),\n array([0.04117687, 0.93616813, 1.971569  ], dtype=float32),\n array([0.04096849, 0.9362333 , 1.973888  ], dtype=float32),\n array([0.04076058, 0.9362974 , 1.9762038 ], dtype=float32),\n array([0.04055316, 0.9363606 , 1.9785162 ], dtype=float32),\n array([0.0403462, 0.9364228, 1.9808252], dtype=float32),\n array([0.04013971, 0.9364841 , 1.9831308 ], dtype=float32),\n array([0.03993369, 0.9365444 , 1.9854332 ], dtype=float32),\n array([0.03972813, 0.9366038 , 1.9877323 ], dtype=float32),\n array([0.03952303, 0.9366622 , 1.990028  ], dtype=float32),\n array([0.0393184 , 0.93671966, 1.9923204 ], dtype=float32),\n array([0.03911422, 0.9367762 , 1.9946096 ], dtype=float32),\n array([0.0389105 , 0.93683183, 1.9968957 ], dtype=float32),\n array([0.03870724, 0.93688655, 1.9991784 ], dtype=float32),\n array([0.03850443, 0.9369403 , 2.001458  ], dtype=float32),\n array([0.03830207, 0.9369932 , 2.003734  ], dtype=float32),\n array([0.03810016, 0.93704516, 2.0060072 ], dtype=float32),\n array([0.0378987, 0.9370962, 2.008277 ], dtype=float32),\n array([0.03769768, 0.9371463 , 2.0105438 ], dtype=float32),\n array([0.0374971, 0.9371955, 2.0128074], dtype=float32),\n array([0.03729696, 0.93724376, 2.0150678 ], dtype=float32),\n array([0.03709727, 0.93729115, 2.0173252 ], dtype=float32),\n array([0.03689801, 0.9373377 , 2.0195794 ], dtype=float32),\n array([0.03669918, 0.93738335, 2.0218306 ], dtype=float32),\n array([0.03650079, 0.9374281 , 2.0240784 ], dtype=float32),\n array([0.03630283, 0.937472  , 2.026323  ], dtype=float32),\n array([0.03610529, 0.937515  , 2.0285647 ], dtype=float32),\n array([0.03590819, 0.93755716, 2.0308032 ], dtype=float32),\n array([0.03571151, 0.93759847, 2.0330389 ], dtype=float32),\n array([0.03551525, 0.9376389 , 2.0352714 ], dtype=float32),\n array([0.03531941, 0.93767846, 2.0375009 ], dtype=float32),\n array([0.035124 , 0.9377172, 2.0397272], dtype=float32),\n array([0.034929 , 0.9377551, 2.0419505], dtype=float32),\n array([0.03473442, 0.93779206, 2.0441709 ], dtype=float32),\n array([0.03454025, 0.9378282 , 2.0463881 ], dtype=float32),\n array([0.03434649, 0.93786347, 2.0486028 ], dtype=float32),\n array([0.03415315, 0.9378979 , 2.0508144 ], dtype=float32),\n array([0.03396022, 0.93793154, 2.053023  ], dtype=float32),\n array([0.03376769, 0.9379644 , 2.0552287 ], dtype=float32),\n array([0.03357556, 0.9379964 , 2.0574315 ], dtype=float32),\n array([0.03338384, 0.93802756, 2.059631  ], dtype=float32),\n array([0.03319253, 0.9380579 , 2.061828  ], dtype=float32),\n array([0.03300161, 0.93808746, 2.0640218 ], dtype=float32),\n array([0.03281109, 0.9381162 , 2.0662127 ], dtype=float32),\n array([0.03262097, 0.93814415, 2.0684006 ], dtype=float32),\n array([0.03243124, 0.93817127, 2.0705857 ], dtype=float32),\n array([0.03224191, 0.9381976 , 2.072768  ], dtype=float32),\n array([0.03205297, 0.9382231 , 2.0749474 ], dtype=float32),\n array([0.03186442, 0.93824786, 2.077124  ], dtype=float32),\n array([0.03167626, 0.9382718 , 2.079298  ], dtype=float32),\n array([0.03148848, 0.938295  , 2.081469  ], dtype=float32),\n array([0.03130109, 0.9383174 , 2.0836372 ], dtype=float32),\n array([0.03111409, 0.938339  , 2.0858026 ], dtype=float32),\n array([0.03092746, 0.93835974, 2.0879653 ], dtype=float32),\n array([0.03074122, 0.9383797 , 2.090125  ], dtype=float32),\n array([0.03055536, 0.93839896, 2.092282  ], dtype=float32),\n array([0.03036987, 0.93841743, 2.0944362 ], dtype=float32),\n array([0.03018476, 0.93843514, 2.0965877 ], dtype=float32),\n array([0.03000002, 0.93845206, 2.0987363 ], dtype=float32),\n array([0.02981566, 0.9384682 , 2.1008823 ], dtype=float32),\n array([0.02963167, 0.93848366, 2.1030257 ], dtype=float32),\n array([0.02944805, 0.9384983 , 2.1051662 ], dtype=float32),\n array([0.02926479, 0.93851227, 2.107304  ], dtype=float32),\n array([0.02908191, 0.93852544, 2.1094394 ], dtype=float32),\n array([0.02889938, 0.9385379 , 2.1115718 ], dtype=float32),\n array([0.02871723, 0.9385496 , 2.1137016 ], dtype=float32),\n array([0.02853543, 0.93856055, 2.1158288 ], dtype=float32),\n array([0.028354  , 0.93857074, 2.117953  ], dtype=float32),\n array([0.02817292, 0.9385802 , 2.120075  ], dtype=float32),\n array([0.02799221, 0.938589  , 2.1221943 ], dtype=float32),\n array([0.02781185, 0.938597  , 2.124311  ], dtype=float32),\n array([0.02763184, 0.93860435, 2.126425  ], dtype=float32),\n array([0.02745219, 0.938611  , 2.1285362 ], dtype=float32),\n array([0.02727289, 0.9386169 , 2.1306448 ], dtype=float32),\n array([0.02709394, 0.93862206, 2.1327507 ], dtype=float32),\n array([0.02691534, 0.9386265 , 2.134854  ], dtype=float32),\n array([0.02673709, 0.9386303 , 2.136955  ], dtype=float32),\n array([0.02655919, 0.9386333 , 2.1390536 ], dtype=float32),\n array([0.02638163, 0.93863565, 2.1411495 ], dtype=float32),\n array([0.02620441, 0.93863726, 2.1432428 ], dtype=float32),\n array([0.02602754, 0.9386382 , 2.1453335 ], dtype=float32),\n array([0.02585101, 0.93863845, 2.1474216 ], dtype=float32),\n array([0.02567481, 0.938638  , 2.1495073 ], dtype=float32),\n array([0.02549896, 0.93863684, 2.1515903 ], dtype=float32),\n array([0.02532344, 0.938635  , 2.1536708 ], dtype=float32),\n array([0.02514827, 0.9386325 , 2.155749  ], dtype=float32),\n array([0.02497342, 0.93862927, 2.1578248 ], dtype=float32),\n array([0.02479891, 0.9386254 , 2.1598978 ], dtype=float32),\n array([0.02462473, 0.9386208 , 2.1619685 ], dtype=float32),\n array([0.02445088, 0.93861556, 2.1640365 ], dtype=float32),\n array([0.02427736, 0.93860966, 2.1661022 ], dtype=float32),\n array([0.02410416, 0.9386031 , 2.1681654 ], dtype=float32),\n array([0.0239313 , 0.93859583, 2.170226  ], dtype=float32),\n array([0.02375876, 0.9385879 , 2.1722846 ], dtype=float32),\n array([0.02358655, 0.9385793 , 2.1743405 ], dtype=float32),\n array([0.02341465, 0.9385701 , 2.176394  ], dtype=float32),\n array([0.02324308, 0.9385602 , 2.178445  ], dtype=float32),\n array([0.02307184, 0.93854964, 2.1804938 ], dtype=float32),\n array([0.02290091, 0.93853843, 2.1825402 ], dtype=float32),\n array([0.0227303, 0.9385266, 2.184584 ], dtype=float32),\n array([0.02256   , 0.93851405, 2.1866255 ], dtype=float32),\n array([0.02239002, 0.9385009 , 2.1886647 ], dtype=float32),\n array([0.02222036, 0.9384871 , 2.1907015 ], dtype=float32),\n array([0.02205101, 0.9384727 , 2.192736  ], dtype=float32),\n array([0.02188198, 0.9384576 , 2.194768  ], dtype=float32),\n array([0.02171325, 0.9384419 , 2.1967976 ], dtype=float32),\n array([0.02154483, 0.93842554, 2.198825  ], dtype=float32),\n array([0.02137673, 0.93840855, 2.20085   ], dtype=float32),\n array([0.02120893, 0.938391  , 2.2028728 ], dtype=float32),\n array([0.02104144, 0.93837273, 2.204893  ], dtype=float32),\n array([0.02087425, 0.9383539 , 2.2069113 ], dtype=float32),\n array([0.02070737, 0.9383344 , 2.2089272 ], dtype=float32),\n array([0.02054079, 0.9383143 , 2.2109406 ], dtype=float32),\n array([0.02037451, 0.93829364, 2.212952  ], dtype=float32),\n array([0.02020853, 0.93827236, 2.2149608 ], dtype=float32),\n array([0.02004286, 0.9382505 , 2.2169676 ], dtype=float32),\n array([0.01987748, 0.93822795, 2.218972  ], dtype=float32),\n array([0.0197124, 0.9382048, 2.2209742], dtype=float32),\n array([0.01954762, 0.9381811 , 2.222974  ], dtype=float32),\n array([0.01938313, 0.9381568 , 2.2249715 ], dtype=float32),\n array([0.01921894, 0.93813187, 2.226967  ], dtype=float32),\n array([0.01905504, 0.9381063 , 2.2289603 ], dtype=float32),\n array([0.01889143, 0.93808013, 2.2309513 ], dtype=float32),\n array([0.01872811, 0.93805337, 2.23294   ], dtype=float32),\n array([0.01856509, 0.938026  , 2.2349265 ], dtype=float32),\n array([0.01840235, 0.93799806, 2.2369108 ], dtype=float32),\n array([0.0182399, 0.9379695, 2.238893 ], dtype=float32),\n array([0.01807774, 0.9379404 , 2.240873  ], dtype=float32),\n array([0.01791587, 0.93791074, 2.2428508 ], dtype=float32),\n array([0.01775428, 0.93788046, 2.2448263 ], dtype=float32),\n array([0.01759297, 0.9378496 , 2.2467997 ], dtype=float32),\n array([0.01743195, 0.9378181 , 2.248771  ], dtype=float32),\n array([0.01727121, 0.93778604, 2.25074   ], dtype=float32),\n array([0.01711075, 0.93775344, 2.252707  ], dtype=float32),\n array([0.01695056, 0.93772024, 2.2546718 ], dtype=float32),\n array([0.01679066, 0.9376865 , 2.2566345 ], dtype=float32),\n array([0.01663104, 0.93765223, 2.258595  ], dtype=float32),\n array([0.01647169, 0.93761736, 2.2605536 ], dtype=float32),\n array([0.01631262, 0.93758196, 2.26251   ], dtype=float32),\n array([0.01615383, 0.93754596, 2.2644644 ], dtype=float32),\n array([0.01599531, 0.9375094 , 2.2664165 ], dtype=float32),\n array([0.01583706, 0.9374723 , 2.2683666 ], dtype=float32),\n array([0.01567908, 0.9374346 , 2.2703145 ], dtype=float32),\n array([0.01552138, 0.93739635, 2.2722604 ], dtype=float32),\n array([0.01536394, 0.93735754, 2.2742043 ], dtype=float32),\n array([0.01520678, 0.9373182 , 2.276146  ], dtype=float32),\n array([0.01504988, 0.9372783 , 2.2780855 ], dtype=float32),\n array([0.01489325, 0.9372378 , 2.2800229 ], dtype=float32),\n array([0.01473689, 0.9371968 , 2.2819586 ], dtype=float32),\n array([0.01458079, 0.93715525, 2.2838922 ], dtype=float32),\n array([0.01442496, 0.93711317, 2.2858236 ], dtype=float32),\n array([0.01426939, 0.93707055, 2.2877529 ], dtype=float32),\n array([0.01411408, 0.9370274 , 2.2896802 ], dtype=float32),\n array([0.01395904, 0.9369837 , 2.2916055 ], dtype=float32),\n array([0.01380425, 0.9369395 , 2.2935288 ], dtype=float32),\n array([0.01364973, 0.9368947 , 2.2954502 ], dtype=float32),\n array([0.01349546, 0.9368494 , 2.2973695 ], dtype=float32),\n array([0.01334146, 0.9368036 , 2.2992868 ], dtype=float32),\n array([0.01318771, 0.9367572 , 2.301202  ], dtype=float32),\n array([0.01303422, 0.9367103 , 2.3031154 ], dtype=float32),\n array([0.01288098, 0.93666285, 2.3050268 ], dtype=float32),\n array([0.012728 , 0.9366149, 2.306936 ], dtype=float32),\n array([0.01257528, 0.9365664 , 2.3088434 ], dtype=float32),\n array([0.01242281, 0.9365174 , 2.3107486 ], dtype=float32),\n array([0.01227058, 0.93646795, 2.312652  ], dtype=float32),\n array([0.01211862, 0.93641794, 2.3145537 ], dtype=float32),\n array([0.0119669, 0.9363674, 2.3164532], dtype=float32),\n array([0.01181543, 0.9363164 , 2.3183508 ], dtype=float32),\n array([0.01166421, 0.9362648 , 2.3202465 ], dtype=float32),\n array([0.01151324, 0.9362127 , 2.3221402 ], dtype=float32),\n array([0.01136251, 0.93616015, 2.324032  ], dtype=float32),\n array([0.01121204, 0.93610704, 2.325922  ], dtype=float32),\n array([0.01106181, 0.93605345, 2.32781   ], dtype=float32),\n array([0.01091182, 0.93599933, 2.329696  ], dtype=float32),\n array([0.01076208, 0.9359447 , 2.3315802 ], dtype=float32),\n array([0.01061258, 0.93588954, 2.3334625 ], dtype=float32),\n array([0.01046332, 0.93583393, 2.335343  ], dtype=float32),\n array([0.0103143 , 0.93577784, 2.3372214 ], dtype=float32),\n array([0.01016553, 0.9357213 , 2.3390982 ], dtype=float32),\n array([0.010017 , 0.9356642, 2.340973 ], dtype=float32),\n array([0.0098687, 0.9356066, 2.3428457], dtype=float32),\n array([0.00972064, 0.9355485 , 2.3447165 ], dtype=float32),\n array([0.00957283, 0.9354899 , 2.3465855 ], dtype=float32),\n array([0.00942524, 0.9354308 , 2.3484528 ], dtype=float32),\n array([0.0092779, 0.9353713, 2.3503182], dtype=float32),\n array([0.00913079, 0.9353112 , 2.3521817 ], dtype=float32),\n array([0.00898391, 0.9352507 , 2.3540432 ], dtype=float32),\n array([0.00883727, 0.9351897 , 2.3559031 ], dtype=float32),\n array([0.00869086, 0.9351283 , 2.3577614 ], dtype=float32),\n array([0.00854469, 0.9350663 , 2.3596177 ], dtype=float32),\n array([0.00839875, 0.9350038 , 2.3614721 ], dtype=float32),\n array([0.00825303, 0.9349409 , 2.3633246 ], dtype=float32),\n array([0.00810755, 0.93487746, 2.3651755 ], dtype=float32),\n array([0.0079623 , 0.93481356, 2.3670244 ], dtype=float32),\n array([0.00781727, 0.9347492 , 2.3688717 ], dtype=float32),\n array([0.00767247, 0.93468434, 2.370717  ], dtype=float32),\n array([0.00752791, 0.93461907, 2.3725605 ], dtype=float32),\n array([0.00738356, 0.9345533 , 2.3744023 ], dtype=float32),\n array([0.00723945, 0.9344871 , 2.3762424 ], dtype=float32),\n array([0.00709555, 0.9344204 , 2.3780806 ], dtype=float32),\n array([0.00695189, 0.93435323, 2.379917  ], dtype=float32),\n array([0.00680844, 0.9342856 , 2.3817518 ], dtype=float32),\n array([0.00666522, 0.93421745, 2.3835847 ], dtype=float32),\n array([0.00652222, 0.9341489 , 2.385416  ], dtype=float32),\n array([0.00637944, 0.9340799 , 2.3872454 ], dtype=float32),\n array([0.00623689, 0.93401045, 2.3890731 ], dtype=float32),\n array([0.00609455, 0.93394053, 2.3908992 ], dtype=float32),\n array([0.00595243, 0.93387014, 2.3927233 ], dtype=float32),\n array([0.00581054, 0.9337993 , 2.3945458 ], dtype=float32),\n array([0.00566885, 0.93372804, 2.3963664 ], dtype=float32),\n array([0.00552739, 0.9336563 , 2.3981855 ], dtype=float32),\n array([0.00538615, 0.9335841 , 2.4000027 ], dtype=float32),\n array([0.00524512, 0.93351144, 2.4018183 ], dtype=float32),\n array([0.0051043 , 0.93343836, 2.4036322 ], dtype=float32),\n array([0.0049637 , 0.93336487, 2.4054444 ], dtype=float32),\n array([0.00482332, 0.9332909 , 2.407255  ], dtype=float32),\n array([0.00468314, 0.9332165 , 2.4090638 ], dtype=float32),\n array([0.00454318, 0.93314165, 2.4108708 ], dtype=float32),\n array([0.00440344, 0.93306637, 2.4126763 ], dtype=float32),\n array([0.0042639, 0.9329906, 2.4144802], dtype=float32),\n array([0.00412457, 0.93291444, 2.4162822 ], dtype=float32),\n array([0.00398546, 0.93283784, 2.4180825 ], dtype=float32),\n array([0.00384655, 0.93276083, 2.4198813 ], dtype=float32),\n array([0.00370785, 0.93268335, 2.4216785 ], dtype=float32),\n array([0.00356936, 0.93260545, 2.4234738 ], dtype=float32),\n array([0.00343108, 0.93252707, 2.4252675 ], dtype=float32),\n array([0.00329301, 0.93244827, 2.4270597 ], dtype=float32),\n array([0.00315514, 0.93236905, 2.4288502 ], dtype=float32),\n array([0.00301747, 0.93228936, 2.430639  ], dtype=float32),\n array([0.00288001, 0.9322093 , 2.4324262 ], dtype=float32),\n array([0.00274276, 0.93212885, 2.4342117 ], dtype=float32),\n array([0.00260571, 0.93204796, 2.4359956 ], dtype=float32),\n array([0.00246886, 0.9319666 , 2.4377778 ], dtype=float32),\n array([2.3322161e-03, 9.3188483e-01, 2.4395583e+00], dtype=float32),\n array([2.1957729e-03, 9.3180263e-01, 2.4413373e+00], dtype=float32),\n array([2.0595312e-03, 9.3172002e-01, 2.4431148e+00], dtype=float32),\n array([1.9234900e-03, 9.3163699e-01, 2.4448905e+00], dtype=float32),\n array([1.7876489e-03, 9.3155354e-01, 2.4466646e+00], dtype=float32),\n array([1.6520075e-03, 9.3146968e-01, 2.4484372e+00], dtype=float32),\n array([1.5165650e-03, 9.3138540e-01, 2.4502082e+00], dtype=float32),\n array([1.3813209e-03, 9.3130070e-01, 2.4519775e+00], dtype=float32),\n array([1.2462744e-03, 9.3121558e-01, 2.4537451e+00], dtype=float32),\n array([1.1114252e-03, 9.3113005e-01, 2.4555113e+00], dtype=float32),\n array([9.7677275e-04, 9.3104416e-01, 2.4572761e+00], dtype=float32),\n array([8.4231631e-04, 9.3095785e-01, 2.4590392e+00], dtype=float32),\n array([7.0805528e-04, 9.3087113e-01, 2.4608006e+00], dtype=float32),\n array([5.7398912e-04, 9.3078399e-01, 2.4625607e+00], dtype=float32),\n array([4.4011726e-04, 9.3069643e-01, 2.4643190e+00], dtype=float32),\n array([3.0643918e-04, 9.3060845e-01, 2.4660757e+00], dtype=float32),\n array([1.7295431e-04, 9.3052006e-01, 2.4678309e+00], dtype=float32),\n array([3.9662016e-05, 9.3043131e-01, 2.4695847e+00], dtype=float32),\n array([-9.3438248e-05,  9.3034214e-01,  2.4713368e+00], dtype=float32),\n array([-2.2634713e-04,  9.3025255e-01,  2.4730873e+00], dtype=float32),\n array([-3.5906513e-04,  9.3016255e-01,  2.4748366e+00], dtype=float32),\n array([-4.9159280e-04,  9.3007213e-01,  2.4765842e+00], dtype=float32),\n array([-6.2393071e-04,  9.2998129e-01,  2.4783301e+00], dtype=float32),\n array([-7.5607945e-04,  9.2989010e-01,  2.4800744e+00], dtype=float32),\n array([-8.8803959e-04,  9.2979854e-01,  2.4818175e+00], dtype=float32),\n array([-1.0198116e-03,  9.2970657e-01,  2.4835589e+00], dtype=float32),\n array([-1.1513962e-03,  9.2961419e-01,  2.4852989e+00], dtype=float32),\n array([-1.2827938e-03,  9.2952138e-01,  2.4870372e+00], dtype=float32),\n array([-1.414005e-03,  9.294282e-01,  2.488774e+00], dtype=float32),\n array([-1.5450302e-03,  9.2933464e-01,  2.4905095e+00], dtype=float32),\n array([-1.6758700e-03,  9.2924070e-01,  2.4922433e+00], dtype=float32),\n array([-1.8065250e-03,  9.2914641e-01,  2.4939759e+00], dtype=float32),\n array([-1.9369959e-03,  9.2905170e-01,  2.4957068e+00], dtype=float32),\n array([-2.0672830e-03,  9.2895657e-01,  2.4974360e+00], dtype=float32),\n array([-2.1973869e-03,  9.2886108e-01,  2.4991639e+00], dtype=float32),\n array([-2.3273081e-03,  9.2876518e-01,  2.5008903e+00], dtype=float32),\n array([-2.4570469e-03,  9.2866892e-01,  2.5026152e+00], dtype=float32),\n array([-0.0025866,  0.9285723,  2.5043387], dtype=float32),\n array([-0.00271598,  0.92847526,  2.5060606 ], dtype=float32),\n array([-0.00284518,  0.92837787,  2.5077813 ], dtype=float32),\n array([-0.00297419,  0.92828006,  2.5095003 ], dtype=float32),\n array([-0.00310303,  0.9281818 ,  2.5112178 ], dtype=float32),\n array([-0.00323168,  0.9280833 ,  2.512934  ], dtype=float32),\n array([-0.00336016,  0.92798436,  2.5146487 ], dtype=float32),\n array([-0.00348846,  0.92788506,  2.516362  ], dtype=float32),\n array([-0.00361658,  0.92778534,  2.5180736 ], dtype=float32),\n array([-0.00374453,  0.92768526,  2.519784  ], dtype=float32),\n array([-0.0038723,  0.9275848,  2.521493 ], dtype=float32),\n array([-0.00399989,  0.92748404,  2.5232003 ], dtype=float32),\n array([-0.00412731,  0.9273829 ,  2.5249064 ], dtype=float32),\n array([-0.00425455,  0.9272813 ,  2.526611  ], dtype=float32),\n array([-0.00438162,  0.9271794 ,  2.528314  ], dtype=float32),\n array([-0.00450851,  0.9270771 ,  2.5300157 ], dtype=float32),\n array([-0.00463523,  0.9269744 ,  2.531716  ], dtype=float32),\n array([-0.00476178,  0.9268714 ,  2.533415  ], dtype=float32),\n array([-0.00488815,  0.926768  ,  2.5351124 ], dtype=float32),\n array([-0.00501435,  0.92666423,  2.5368085 ], dtype=float32),\n array([-0.00514038,  0.9265601 ,  2.5385032 ], dtype=float32),\n array([-0.00526624,  0.9264556 ,  2.5401964 ], dtype=float32),\n array([-0.00539192,  0.9263507 ,  2.5418882 ], dtype=float32),\n array([-0.00551744,  0.9262455 ,  2.5435789 ], dtype=float32),\n array([-0.00564279,  0.92613995,  2.5452678 ], dtype=float32),\n array([-0.00576797,  0.92603403,  2.5469553 ], dtype=float32),\n array([-0.00589298,  0.9259277 ,  2.5486417 ], dtype=float32),\n array([-0.00601782,  0.925821  ,  2.5503266 ], dtype=float32),\n array([-0.00614249,  0.92571396,  2.55201   ], dtype=float32),\n array([-0.00626699,  0.9256066 ,  2.553692  ], dtype=float32),\n array([-0.00639133,  0.9254989 ,  2.555373  ], dtype=float32),\n array([-0.0065155,  0.9253908,  2.5570524], dtype=float32),\n array([-0.0066395,  0.9252823,  2.5587304], dtype=float32),\n array([-0.00676334,  0.92517346,  2.5604072 ], dtype=float32),\n array([-0.00688702,  0.9250643 ,  2.5620825 ], dtype=float32),\n array([-0.00701053,  0.92495483,  2.5637565 ], dtype=float32),\n array([-0.00713387,  0.924845  ,  2.5654292 ], dtype=float32),\n array([-0.00725705,  0.9247348 ,  2.5671005 ], dtype=float32),\n array([-0.00738007,  0.9246242 ,  2.5687704 ], dtype=float32),\n array([-0.00750292,  0.9245133 ,  2.5704389 ], dtype=float32),\n array([-0.00762561,  0.92440206,  2.5721061 ], dtype=float32),\n array([-0.00774814,  0.9242905 ,  2.573772  ], dtype=float32),\n array([-0.00787051,  0.92417854,  2.5754364 ], dtype=float32),\n array([-0.00799272,  0.92406625,  2.5770996 ], dtype=float32),\n array([-0.00811476,  0.9239536 ,  2.5787616 ], dtype=float32),\n array([-0.00823665,  0.92384064,  2.5804222 ], dtype=float32),\n array([-0.00835837,  0.92372733,  2.5820816 ], dtype=float32),\n array([-0.00847994,  0.92361367,  2.5837395 ], dtype=float32),\n array([-0.00860134,  0.92349964,  2.585396  ], dtype=float32),\n array([-0.00872259,  0.92338526,  2.5870512 ], dtype=float32),\n array([-0.00884368,  0.9232706 ,  2.5887053 ], dtype=float32),\n array([-0.00896461,  0.92315555,  2.590358  ], dtype=float32),\n array([-0.00908539,  0.92304015,  2.5920093 ], dtype=float32),\n array([-0.009206 ,  0.9229244,  2.5936594], dtype=float32),\n array([-0.00932646,  0.9228083 ,  2.595308  ], dtype=float32),\n array([-0.00944677,  0.92269194,  2.5969555 ], dtype=float32),\n array([-0.00956691,  0.92257524,  2.5986018 ], dtype=float32),\n array([-0.00968691,  0.9224582 ,  2.6002467 ], dtype=float32),\n array([-0.00980674,  0.92234075,  2.6018903 ], dtype=float32),\n array([-0.00992643,  0.922223  ,  2.6035328 ], dtype=float32),\n array([-0.01004596,  0.92210495,  2.6051738 ], dtype=float32),\n array([-0.01016533,  0.9219866 ,  2.6068137 ], dtype=float32),\n array([-0.01028455,  0.92186785,  2.608452  ], dtype=float32),\n array([-0.01040362,  0.92174876,  2.6100893 ], dtype=float32),\n array([-0.01052254,  0.9216293 ,  2.6117253 ], dtype=float32),\n array([-0.0106413,  0.9215096,  2.61336  ], dtype=float32),\n array([-0.01075992,  0.9213896 ,  2.6149933 ], dtype=float32),\n array([-0.01087838,  0.9212692 ,  2.6166255 ], dtype=float32),\n array([-0.01099669,  0.9211485 ,  2.6182563 ], dtype=float32),\n array([-0.01111485,  0.9210274 ,  2.6198862 ], dtype=float32),\n array([-0.01123286,  0.92090607,  2.6215146 ], dtype=float32),\n array([-0.01135072,  0.9207844 ,  2.6231415 ], dtype=float32),\n array([-0.01146843,  0.9206624 ,  2.6247675 ], dtype=float32),\n array([-0.01158599,  0.92054003,  2.6263921 ], dtype=float32),\n array([-0.0117034 ,  0.92041737,  2.6280155 ], dtype=float32),\n array([-0.01182066,  0.9202944 ,  2.6296377 ], dtype=float32),\n array([-0.01193778,  0.9201711 ,  2.6312587 ], dtype=float32),\n array([-0.01205475,  0.92004746,  2.6328783 ], dtype=float32),\n array([-0.01217157,  0.9199235 ,  2.634497  ], dtype=float32),\n array([-0.01228824,  0.9197992 ,  2.6361141 ], dtype=float32),\n array([-0.01240477,  0.91967463,  2.6377301 ], dtype=float32),\n array([-0.01252116,  0.91954976,  2.639345  ], dtype=float32),\n array([-0.01263739,  0.91942453,  2.6409585 ], dtype=float32),\n array([-0.01275348,  0.91929895,  2.642571  ], dtype=float32),\n array([-0.01286943,  0.91917306,  2.644182  ], dtype=float32),\n array([-0.01298523,  0.9190469 ,  2.645792  ], dtype=float32),\n array([-0.01310089,  0.9189204 ,  2.6474006 ], dtype=float32),\n array([-0.0132164 ,  0.91879356,  2.649008  ], dtype=float32),\n array([-0.01333177,  0.9186664 ,  2.6506145 ], dtype=float32),\n array([-0.013447 ,  0.9185389,  2.6522195], dtype=float32),\n array([-0.01356209,  0.9184112 ,  2.6538234 ], dtype=float32),\n array([-0.01367703,  0.91828316,  2.6554263 ], dtype=float32),\n array([-0.01379183,  0.9181548 ,  2.6570277 ], dtype=float32),\n array([-0.01390649,  0.9180261 ,  2.658628  ], dtype=float32),\n array([-0.01402101,  0.9178971 ,  2.6602273 ], dtype=float32),\n array([-0.01413538,  0.9177678 ,  2.6618252 ], dtype=float32),\n array([-0.01424962,  0.9176382 ,  2.6634219 ], dtype=float32),\n array([-0.01436371,  0.91750824,  2.6650176 ], dtype=float32),\n array([-0.01447767,  0.917378  ,  2.6666121 ], dtype=float32),\n array([-0.01459148,  0.9172475 ,  2.6682053 ], dtype=float32),\n array([-0.01470516,  0.91711664,  2.6697974 ], dtype=float32),\n array([-0.0148187,  0.9169855,  2.6713884], dtype=float32),\n array([-0.0149321,  0.916854 ,  2.6729782], dtype=float32),\n array([-0.01504536,  0.9167223 ,  2.6745667 ], dtype=float32),\n array([-0.01515848,  0.9165903 ,  2.6761541 ], dtype=float32),\n array([-0.01527147,  0.9164579 ,  2.6777403 ], dtype=float32),\n array([-0.01538432,  0.9163252 ,  2.6793256 ], dtype=float32),\n array([-0.01549703,  0.91619223,  2.6809096 ], dtype=float32),\n array([-0.01560961,  0.91605896,  2.6824925 ], dtype=float32),\n array([-0.01572205,  0.9159254 ,  2.6840742 ], dtype=float32),\n array([-0.01583435,  0.9157915 ,  2.6856546 ], dtype=float32),\n array([-0.01594652,  0.91565734,  2.687234  ], dtype=float32),\n array([-0.01605855,  0.9155229 ,  2.6888123 ], dtype=float32),\n array([-0.01617045,  0.9153881 ,  2.6903894 ], dtype=float32),\n array([-0.01628222,  0.91525304,  2.6919653 ], dtype=float32),\n array([-0.01639385,  0.9151177 ,  2.6935403 ], dtype=float32),\n array([-0.01650534,  0.91498196,  2.6951141 ], dtype=float32),\n array([-0.01661671,  0.914846  ,  2.6966865 ], dtype=float32),\n array([-0.01672794,  0.91470975,  2.698258  ], dtype=float32),\n array([-0.01683903,  0.9145732 ,  2.6998281 ], dtype=float32),\n array([-0.01695   ,  0.91443634,  2.7013972 ], dtype=float32),\n array([-0.01706083,  0.91429925,  2.7029653 ], dtype=float32),\n array([-0.01717153,  0.9141618 ,  2.7045321 ], dtype=float32),\n array([-0.0172821 ,  0.91402406,  2.7060978 ], dtype=float32),\n array([-0.01739253,  0.913886  ,  2.7076626 ], dtype=float32),\n array([-0.01750284,  0.91374767,  2.7092261 ], dtype=float32),\n array([-0.01761301,  0.9136091 ,  2.7107885 ], dtype=float32),\n array([-0.01772306,  0.9134702 ,  2.71235   ], dtype=float32),\n array([-0.01783297,  0.91333103,  2.71391   ], dtype=float32),\n array([-0.01794276,  0.9131915 ,  2.7154694 ], dtype=float32),\n array([-0.01805241,  0.9130517 ,  2.7170274 ], dtype=float32),\n array([-0.01816194,  0.91291165,  2.7185843 ], dtype=float32),\n array([-0.01827134,  0.9127713 ,  2.7201405 ], dtype=float32),\n array([-0.01838061,  0.9126306 ,  2.7216954 ], dtype=float32),\n array([-0.01848975,  0.9124897 ,  2.7232492 ], dtype=float32),\n array([-0.01859876,  0.9123485 ,  2.724802  ], dtype=float32),\n array([-0.01870765,  0.912207  ,  2.7263536 ], dtype=float32),\n array([-0.01881641,  0.9120652 ,  2.727904  ], dtype=float32),\n array([-0.01892504,  0.91192317,  2.7294536 ], dtype=float32),\n array([-0.01903355,  0.91178083,  2.7310019 ], dtype=float32),\n array([-0.01914193,  0.9116382 ,  2.732549  ], dtype=float32),\n array([-0.01925018,  0.91149527,  2.7340953 ], dtype=float32),\n array([-0.01935831,  0.9113521 ,  2.7356405 ], dtype=float32),\n array([-0.01946631,  0.9112086 ,  2.7371845 ], dtype=float32),\n array([-0.01957419,  0.91106486,  2.7387276 ], dtype=float32),\n array([-0.01968194,  0.9109208 ,  2.7402694 ], dtype=float32),\n array([-0.01978957,  0.91077644,  2.74181   ], dtype=float32),\n array([-0.01989707,  0.91063184,  2.74335   ], dtype=float32),\n array([-0.02000445,  0.91048694,  2.7448888 ], dtype=float32),\n array([-0.02011171,  0.91034174,  2.7464266 ], dtype=float32),\n array([-0.02021884,  0.91019624,  2.7479632 ], dtype=float32),\n array([-0.02032585,  0.9100505 ,  2.7494988 ], dtype=float32),\n array([-0.02043274,  0.90990454,  2.7510335 ], dtype=float32),\n array([-0.0205395 ,  0.90975827,  2.752567  ], dtype=float32),\n array([-0.02064615,  0.9096117 ,  2.7540994 ], dtype=float32),\n array([-0.02075267,  0.9094649 ,  2.755631  ], dtype=float32),\n array([-0.02085907,  0.9093178 ,  2.7571614 ], dtype=float32),\n array([-0.02096535,  0.9091704 ,  2.7586906 ], dtype=float32),\n array([-0.0210715,  0.9090227,  2.7602189], dtype=float32),\n array([-0.02117754,  0.90887475,  2.7617462 ], dtype=float32),\n array([-0.02128346,  0.9087265 ,  2.7632723 ], dtype=float32),\n array([-0.02138926,  0.90857804,  2.7647974 ], dtype=float32),\n array([-0.02149493,  0.90842927,  2.7663217 ], dtype=float32),\n array([-0.02160049,  0.90828025,  2.767845  ], dtype=float32),\n array([-0.02170593,  0.90813094,  2.769367  ], dtype=float32),\n array([-0.02181124,  0.90798134,  2.770888  ], dtype=float32),\n array([-0.02191644,  0.9078315 ,  2.7724082 ], dtype=float32),\n array([-0.02202152,  0.9076814 ,  2.7739272 ], dtype=float32),\n array([-0.02212649,  0.907531  ,  2.7754452 ], dtype=float32),\n array([-0.02223133,  0.90738034,  2.7769623 ], dtype=float32),\n array([-0.02233606,  0.90722936,  2.7784784 ], dtype=float32),\n array([-0.02244067,  0.9070782 ,  2.7799933 ], dtype=float32),\n array([-0.02254516,  0.90692675,  2.7815073 ], dtype=float32),\n array([-0.02264954,  0.906775  ,  2.7830203 ], dtype=float32),\n array([-0.0227538 ,  0.90662295,  2.7845323 ], dtype=float32),\n array([-0.02285794,  0.9064707 ,  2.7860434 ], dtype=float32),\n array([-0.02296197,  0.9063182 ,  2.7875533 ], dtype=float32),\n array([-0.02306588,  0.90616536,  2.7890625 ], dtype=float32),\n array([-0.02316967,  0.90601224,  2.7905705 ], dtype=float32),\n array([-0.02327335,  0.90585893,  2.7920775 ], dtype=float32),\n array([-0.02337692,  0.90570533,  2.7935836 ], dtype=float32),\n array([-0.02348037,  0.90555143,  2.7950888 ], dtype=float32),\n array([-0.0235837,  0.9053973,  2.7965927], dtype=float32),\n array([-0.02368692,  0.9052429 ,  2.798096  ], dtype=float32),\n array([-0.02379003,  0.90508825,  2.799598  ], dtype=float32),\n array([-0.02389303,  0.90493333,  2.8010993 ], dtype=float32),\n array([-0.02399591,  0.9047782 ,  2.8025994 ], dtype=float32),\n array([-0.02409867,  0.90462273,  2.8040986 ], dtype=float32),\n array([-0.02420133,  0.90446705,  2.8055968 ], dtype=float32),\n array([-0.02430387,  0.90431106,  2.807094  ], dtype=float32),\n array([-0.0244063 ,  0.90415484,  2.8085902 ], dtype=float32),\n array([-0.02450861,  0.9039984 ,  2.8100855 ], dtype=float32),\n array([-0.02461082,  0.9038416 ,  2.8115797 ], dtype=float32),\n array([-0.02471291,  0.90368456,  2.8130732 ], dtype=float32),\n array([-0.02481489,  0.9035273 ,  2.8145657 ], dtype=float32),\n array([-0.02491676,  0.9033698 ,  2.816057  ], dtype=float32),\n array([-0.02501852,  0.903212  ,  2.8175476 ], dtype=float32),\n array([-0.02512017,  0.90305394,  2.819037  ], dtype=float32),\n array([-0.02522171,  0.9028956 ,  2.8205254 ], dtype=float32),\n array([-0.02532314,  0.9027371 ,  2.8220131 ], dtype=float32),\n array([-0.02542445,  0.90257823,  2.8234997 ], dtype=float32),\n array([-0.02552566,  0.90241915,  2.8249855 ], dtype=float32),\n array([-0.02562676,  0.9022598 ,  2.8264704 ], dtype=float32),\n array([-0.02572775,  0.9021002 ,  2.827954  ], dtype=float32),\n array([-0.02582863,  0.90194035,  2.829437  ], dtype=float32),\n array([-0.0259294 ,  0.90178025,  2.8309188 ], dtype=float32),\n array([-0.02603006,  0.9016199 ,  2.8323996 ], dtype=float32),\n array([-0.02613061,  0.9014593 ,  2.8338797 ], dtype=float32),\n array([-0.02623106,  0.9012984 ,  2.8353589 ], dtype=float32),\n array([-0.0263314,  0.9011373,  2.836837 ], dtype=float32),\n array([-0.02643163,  0.90097594,  2.8383143 ], dtype=float32),\n array([-0.02653175,  0.9008143 ,  2.8397906 ], dtype=float32),\n array([-0.02663177,  0.9006524 ,  2.841266  ], dtype=float32),\n array([-0.02673168,  0.9004903 ,  2.8427403 ], dtype=float32),\n array([-0.02683148,  0.9003279 ,  2.8442137 ], dtype=float32),\n array([-0.02693117,  0.90016526,  2.8456864 ], dtype=float32),\n array([-0.02703076,  0.9000024 ,  2.847158  ], dtype=float32),\n array([-0.02713025,  0.8998393 ,  2.8486288 ], dtype=float32),\n array([-0.02722963,  0.8996759 ,  2.8500986 ], dtype=float32),\n array([-0.0273289 ,  0.89951223,  2.8515675 ], dtype=float32),\n array([-0.02742806,  0.8993484 ,  2.8530354 ], dtype=float32),\n array([-0.02752713,  0.8991842 ,  2.8545024 ], dtype=float32),\n array([-0.02762608,  0.89901984,  2.8559687 ], dtype=float32),\n array([-0.02772493,  0.89885515,  2.857434  ], dtype=float32),\n array([-0.02782368,  0.8986903 ,  2.8588984 ], dtype=float32),\n array([-0.02792232,  0.8985252 ,  2.8603618 ], dtype=float32),\n array([-0.02802086,  0.8983598 ,  2.8618243 ], dtype=float32),\n array([-0.0281193,  0.8981942,  2.8632858], dtype=float32),\n array([-0.02821763,  0.8980283 ,  2.8647466 ], dtype=float32),\n array([-0.02831586,  0.8978622 ,  2.8662064 ], dtype=float32),\n array([-0.02841399,  0.8976958 ,  2.8676655 ], dtype=float32),\n array([-0.02851201,  0.8975292 ,  2.8691235 ], dtype=float32),\n array([-0.02860993,  0.89736235,  2.8705804 ], dtype=float32),\n array([-0.02870775,  0.8971952 ,  2.8720367 ], dtype=float32),\n array([-0.02880546,  0.8970279 ,  2.873492  ], dtype=float32),\n array([-0.02890308,  0.89686036,  2.8749466 ], dtype=float32),\n array([-0.02900059,  0.8966925 ,  2.8764002 ], dtype=float32),\n array([-0.029098 ,  0.8965244,  2.877853 ], dtype=float32),\n array([-0.02919531,  0.8963561 ,  2.879305  ], dtype=float32),\n array([-0.02929252,  0.89618754,  2.8807557 ], dtype=float32),\n array([-0.02938963,  0.89601874,  2.8822057 ], dtype=float32),\n array([-0.02948663,  0.89584965,  2.8836548 ], dtype=float32),\n array([-0.02958354,  0.89568037,  2.885103  ], dtype=float32),\n array([-0.02968034,  0.89551085,  2.8865504 ], dtype=float32),\n array([-0.02977705,  0.89534104,  2.887997  ], dtype=float32),\n array([-0.02987365,  0.89517105,  2.8894424 ], dtype=float32),\n array([-0.02997016,  0.8950008 ,  2.8908873 ], dtype=float32),\n array([-0.03006657,  0.8948303 ,  2.8923311 ], dtype=float32),\n array([-0.03016287,  0.8946595 ,  2.8937743 ], dtype=float32),\n array([-0.03025908,  0.8944886 ,  2.8952165 ], dtype=float32),\n array([-0.03035519,  0.8943173 ,  2.8966577 ], dtype=float32),\n array([-0.0304512 ,  0.89414585,  2.8980982 ], dtype=float32),\n array([-0.03054711,  0.8939742 ,  2.8995378 ], dtype=float32),\n array([-0.03064293,  0.8938023 ,  2.9009767 ], dtype=float32),\n array([-0.03073865,  0.8936301 ,  2.9024146 ], dtype=float32),\n array([-0.03083426,  0.89345765,  2.9038515 ], dtype=float32),\n array([-0.03092978,  0.89328504,  2.9052877 ], dtype=float32),\n array([-0.03102521,  0.8931121 ,  2.906723  ], dtype=float32),\n array([-0.03112053,  0.892939  ,  2.9081576 ], dtype=float32),\n array([-0.03121576,  0.89276564,  2.9095912 ], dtype=float32),\n array([-0.0313109,  0.8925921,  2.9110239], dtype=float32),\n array([-0.03140593,  0.8924182 ,  2.9124558 ], dtype=float32),\n array([-0.03150087,  0.89224416,  2.9138868 ], dtype=float32),\n array([-0.03159571,  0.8920699 ,  2.915317  ], dtype=float32),\n array([-0.03169046,  0.89189535,  2.9167464 ], dtype=float32),\n array([-0.03178512,  0.89172053,  2.9181747 ], dtype=float32),\n array([-0.03187967,  0.89154553,  2.9196024 ], dtype=float32),\n array([-0.03197414,  0.8913703 ,  2.921029  ], dtype=float32),\n array([-0.0320685,  0.8911948,  2.9224553], dtype=float32),\n array([-0.03216277,  0.89101917,  2.9238806 ], dtype=float32),\n array([-0.03225695,  0.8908432 ,  2.925305  ], dtype=float32),\n array([-0.03235103,  0.890667  ,  2.9267285 ], dtype=float32),\n array([-0.03244501,  0.8904906 ,  2.9281511 ], dtype=float32),\n array([-0.03253891,  0.890314  ,  2.929573  ], dtype=float32),\n array([-0.0326327 ,  0.89013714,  2.930994  ], dtype=float32),\n array([-0.03272641,  0.88996   ,  2.932414  ], dtype=float32),\n array([-0.03282002,  0.88978267,  2.9338336 ], dtype=float32),\n array([-0.03291353,  0.8896051 ,  2.9352522 ], dtype=float32),\n array([-0.03300695,  0.8894273 ,  2.93667   ], dtype=float32),\n array([-0.03310028,  0.8892493 ,  2.938087  ], dtype=float32),\n array([-0.03319352,  0.8890711 ,  2.939503  ], dtype=float32),\n array([-0.03328667,  0.8888926 ,  2.9409182 ], dtype=float32),\n array([-0.03337972,  0.88871384,  2.9423325 ], dtype=float32),\n array([-0.03347268,  0.8885349 ,  2.9437463 ], dtype=float32),\n array([-0.03356555,  0.88835573,  2.9451592 ], dtype=float32),\n array([-0.03365833,  0.8881763 ,  2.9465714 ], dtype=float32),\n array([-0.03375101,  0.88799673,  2.9479825 ], dtype=float32),\n array([-0.0338436,  0.8878169,  2.9493928], dtype=float32),\n array([-0.0339361,  0.8876368,  2.9508026], dtype=float32),\n array([-0.03402851,  0.8874565 ,  2.9522114 ], dtype=float32),\n array([-0.03412083,  0.88727593,  2.9536195 ], dtype=float32),\n array([-0.03421306,  0.88709515,  2.9550266 ], dtype=float32),\n array([-0.0343052 ,  0.88691413,  2.956433  ], dtype=float32),\n array([-0.03439724,  0.88673294,  2.9578388 ], dtype=float32),\n array([-0.0344892,  0.8865515,  2.9592435], dtype=float32),\n array([-0.03458107,  0.8863698 ,  2.9606476 ], dtype=float32),\n array([-0.03467285,  0.8861879 ,  2.962051  ], dtype=float32),\n array([-0.03476454,  0.88600576,  2.9634533 ], dtype=float32),\n array([-0.03485614,  0.88582337,  2.964855  ], dtype=float32),\n array([-0.03494764,  0.8856408 ,  2.9662557 ], dtype=float32),\n array([-0.03503907,  0.885458  ,  2.967656  ], dtype=float32),\n array([-0.0351304 ,  0.88527495,  2.9690552 ], dtype=float32),\n array([-0.03522164,  0.8850917 ,  2.9704535 ], dtype=float32),\n array([-0.03531279,  0.88490826,  2.9718513 ], dtype=float32),\n array([-0.03540386,  0.88472456,  2.9732482 ], dtype=float32),\n array([-0.03549483,  0.8845406 ,  2.9746444 ], dtype=float32),\n array([-0.03558572,  0.8843565 ,  2.9760396 ], dtype=float32),\n array([-0.03567652,  0.88417214,  2.9774344 ], dtype=float32),\n array([-0.03576723,  0.88398755,  2.9788282 ], dtype=float32),\n array([-0.03585786,  0.8838028 ,  2.980221  ], dtype=float32),\n array([-0.03594839,  0.8836177 ,  2.9816134 ], dtype=float32),\n array([-0.03603884,  0.8834324 ,  2.9830048 ], dtype=float32),\n array([-0.0361292,  0.8832469,  2.9843955], dtype=float32),\n array([-0.03621948,  0.8830612 ,  2.9857855 ], dtype=float32),\n array([-0.03630967,  0.8828752 ,  2.9871745 ], dtype=float32),\n array([-0.03639977,  0.88268906,  2.988563  ], dtype=float32),\n array([-0.03648978,  0.8825027 ,  2.9899507 ], dtype=float32),\n array([-0.03657971,  0.88231605,  2.9913375 ], dtype=float32),\n array([-0.03666956,  0.8821292 ,  2.9927237 ], dtype=float32),\n array([-0.03675931,  0.88194215,  2.9941092 ], dtype=float32),\n array([-0.03684898,  0.8817549 ,  2.9954937 ], dtype=float32),\n array([-0.03693857,  0.88156736,  2.9968774 ], dtype=float32),\n array([-0.03702807,  0.88137966,  2.9982605 ], dtype=float32),\n array([-0.03711748,  0.88119173,  2.9996428 ], dtype=float32),\n array([-0.03720681,  0.88100356,  3.0010245 ], dtype=float32),\n array([-0.03729606,  0.8808152 ,  3.0024052 ], dtype=float32),\n array([-0.03738522,  0.8806266 ,  3.0037851 ], dtype=float32),\n array([-0.0374743,  0.8804378,  3.0051644], dtype=float32),\n array([-0.03756329,  0.8802488 ,  3.006543  ], dtype=float32),\n array([-0.0376522 ,  0.88005954,  3.0079207 ], dtype=float32),\n array([-0.03774102,  0.87987006,  3.0092978 ], dtype=float32),\n array([-0.03782976,  0.8796804 ,  3.0106742 ], dtype=float32),\n array([-0.03791841,  0.8794905 ,  3.01205   ], dtype=float32),\n array([-0.03800699,  0.87930036,  3.0134246 ], dtype=float32),\n array([-0.03809548,  0.87911004,  3.0147986 ], dtype=float32),\n array([-0.03818388,  0.8789195 ,  3.016172  ], dtype=float32),\n array([-0.03827221,  0.87872875,  3.0175445 ], dtype=float32),\n array([-0.03836044,  0.8785378 ,  3.0189164 ], dtype=float32),\n array([-0.0384486,  0.8783466,  3.0202875], dtype=float32),\n array([-0.03853667,  0.87815523,  3.021658  ], dtype=float32),\n array([-0.03862466,  0.8779636 ,  3.0230274 ], dtype=float32),\n array([-0.03871257,  0.8777718 ,  3.0243964 ], dtype=float32),\n array([-0.0388004 ,  0.87757975,  3.0257645 ], dtype=float32),\n array([-0.03888814,  0.87738746,  3.027132  ], dtype=float32),\n array([-0.0389758,  0.877195 ,  3.0284986], dtype=float32),\n array([-0.03906338,  0.8770023 ,  3.0298648 ], dtype=float32),\n array([-0.03915088,  0.87680936,  3.03123   ], dtype=float32),\n array([-0.0392383 ,  0.87661624,  3.0325944 ], dtype=float32),\n array([-0.03932563,  0.8764229 ,  3.0339582 ], dtype=float32),\n array([-0.03941289,  0.8762293 ,  3.0353212 ], dtype=float32),\n array([-0.03950006,  0.8760355 ,  3.0366838 ], dtype=float32),\n array([-0.03958715,  0.87584156,  3.0380454 ], dtype=float32),\n array([-0.03967417,  0.87564737,  3.0394065 ], dtype=float32),\n array([-0.0397611,  0.875453 ,  3.0407667], dtype=float32),\n array([-0.03984795,  0.8752584 ,  3.0421262 ], dtype=float32),\n array([-0.03993472,  0.87506354,  3.043485  ], dtype=float32),\n array([-0.04002141,  0.8748685 ,  3.044843  ], dtype=float32),\n array([-0.04010802,  0.87467325,  3.0462005 ], dtype=float32),\n array([-0.04019455,  0.87447774,  3.047557  ], dtype=float32),\n array([-0.04028101,  0.87428206,  3.0489132 ], dtype=float32),\n array([-0.04036738,  0.8740862 ,  3.0502684 ], dtype=float32),\n array([-0.04045367,  0.8738901 ,  3.0516229 ], dtype=float32)]"
     },
     "execution_count": 493,
     "metadata": {},
     "output_type": "execute_result"
    }
   ],
   "source": [
    "params_list"
   ],
   "metadata": {
    "collapsed": false,
    "pycharm": {
     "name": "#%%\n"
    }
   }
  },
  {
   "cell_type": "code",
   "execution_count": 497,
   "outputs": [],
   "source": [
    "def log_marginal_likelihood(params, y, X):\n",
    "    '''\n",
    "    Log marginal likelihood for optimization of hyperparameters for GP\n",
    "\n",
    "    :param params: arameters for the covariance kernel and mean function\n",
    "    :param y: actual outputs\n",
    "    :param X: training anchors\n",
    "    :return: log marginal likelihood\n",
    "    '''\n",
    "    # # set mean\n",
    "    # means = params[0][...,None,:]\n",
    "\n",
    "    # make nans 0\n",
    "    # y = y - means\n",
    "    nan = torch.isnan(y)\n",
    "    nanT = nan.transpose(-1,-2)\n",
    "    nan_ind = torch.where(nanT)\n",
    "    y = torch.where(nan, torch.tensor(0.0), y)\n",
    "    yT = y.transpose(-1,-2)\n",
    "\n",
    "    # get covariance matrix and set rows/columns where nan to 0 as these are technically not datapoints\n",
    "    cov = cov_kernel(X, X[...,None],params)\n",
    "    cov[nanT,:] = 0\n",
    "    cov.transpose(-1,-2)[nanT,:] = 0\n",
    "    cov[nan_ind[0],nan_ind[1],nan_ind[2],nan_ind[3],nan_ind[3]] = 1 # The trick is to set the \"fake\" datapoints diagonal to 1 and rest of its row and column to 1, this way it is like it's not there for the determinant and inverse\n",
    "    inv_cov = inv(cov)\n",
    "\n",
    "    # calculate the matrix multiplication\n",
    "    matmul = torch.einsum('...i,...ij,...j', yT, inv_cov, yT)\n",
    "\n",
    "    res = -1/2 * matmul\n",
    "    return res\n",
    "\n",
    "\n"
   ],
   "metadata": {
    "collapsed": false,
    "pycharm": {
     "name": "#%%\n"
    }
   }
  },
  {
   "cell_type": "markdown",
   "source": [
    "## Torch optimisation loop"
   ],
   "metadata": {
    "collapsed": false,
    "pycharm": {
     "name": "#%% md\n"
    }
   }
  },
  {
   "cell_type": "code",
   "execution_count": 500,
   "outputs": [],
   "source": [
    "def optimize_params(params, y, X, lr = 0.001, n_iter = 100):\n",
    "    '''\n",
    "    Optimise the hyperparameters for the GP\n",
    "\n",
    "    :param params: initial parameters for the covariance kernel and mean function\n",
    "    :param y: actual outputs\n",
    "    :param X: training anchors\n",
    "    :param lr: learning rate\n",
    "    :param n_iter: number of iterations\n",
    "    :return: optimised parameters\n",
    "    '''\n",
    "    params = params.clone().requires_grad_(True)\n",
    "    optimizer = torch.optim.AdamW([params], lr=lr)\n",
    "    gr = torch.ones(params.shape[1:])\n",
    "\n",
    "    for i in range(n_iter):\n",
    "        optimizer.zero_grad()\n",
    "        loss = -log_marginal_likelihood(params, y, X)\n",
    "        loss.backward(gradient=gr)\n",
    "        optimizer.step()\n",
    "        print(f'Iteration {i} marginal likelihood: {np.exp(-loss.mean().item())}')\n",
    "    return params"
   ],
   "metadata": {
    "collapsed": false,
    "pycharm": {
     "name": "#%%\n"
    }
   }
  },
  {
   "cell_type": "code",
   "execution_count": 501,
   "outputs": [
    {
     "name": "stdout",
     "output_type": "stream",
     "text": [
      "Iteration 0 marginal likelihood: 0.09562672826246682\n",
      "Iteration 1 marginal likelihood: 0.10890091292583436\n",
      "Iteration 2 marginal likelihood: 0.12298937018150734\n",
      "Iteration 3 marginal likelihood: 0.13781627580639588\n",
      "Iteration 4 marginal likelihood: 0.15329814070044503\n",
      "Iteration 5 marginal likelihood: 0.16934654593644333\n",
      "Iteration 6 marginal likelihood: 0.18587037440942183\n",
      "Iteration 7 marginal likelihood: 0.20277830898878801\n",
      "Iteration 8 marginal likelihood: 0.21998056764732424\n",
      "Iteration 9 marginal likelihood: 0.23739060723513647\n",
      "Iteration 10 marginal likelihood: 0.25492612717174873\n",
      "Iteration 11 marginal likelihood: 0.27251055949434594\n",
      "Iteration 12 marginal likelihood: 0.29007308217312056\n",
      "Iteration 13 marginal likelihood: 0.307549573253028\n",
      "Iteration 14 marginal likelihood: 0.3248824362140888\n",
      "Iteration 15 marginal likelihood: 0.34202084073414385\n",
      "Iteration 16 marginal likelihood: 0.3589203626876506\n",
      "Iteration 17 marginal likelihood: 0.37554282987178245\n",
      "Iteration 18 marginal likelihood: 0.3918560210933882\n",
      "Iteration 19 marginal likelihood: 0.40783310021307756\n",
      "Iteration 20 marginal likelihood: 0.4234523093070755\n",
      "Iteration 21 marginal likelihood: 0.43869661306112007\n",
      "Iteration 22 marginal likelihood: 0.45355302335216646\n",
      "Iteration 23 marginal likelihood: 0.46801226616262903\n",
      "Iteration 24 marginal likelihood: 0.4820685117458226\n",
      "Iteration 25 marginal likelihood: 0.49571855605533927\n",
      "Iteration 26 marginal likelihood: 0.5089619507924553\n",
      "Iteration 27 marginal likelihood: 0.5218004010991412\n",
      "Iteration 28 marginal likelihood: 0.5342373636148077\n",
      "Iteration 29 marginal likelihood: 0.5462779478142984\n",
      "Iteration 30 marginal likelihood: 0.5579285972272559\n",
      "Iteration 31 marginal likelihood: 0.5691968114524389\n",
      "Iteration 32 marginal likelihood: 0.5800909793440098\n",
      "Iteration 33 marginal likelihood: 0.5906201564698613\n",
      "Iteration 34 marginal likelihood: 0.6007939876942047\n",
      "Iteration 35 marginal likelihood: 0.6106224955476631\n",
      "Iteration 36 marginal likelihood: 0.6201159711242817\n",
      "Iteration 37 marginal likelihood: 0.629284862233162\n",
      "Iteration 38 marginal likelihood: 0.6381397677133788\n",
      "Iteration 39 marginal likelihood: 0.6466911582928752\n",
      "Iteration 40 marginal likelihood: 0.6549495750144535\n",
      "Iteration 41 marginal likelihood: 0.6629253579656853\n",
      "Iteration 42 marginal likelihood: 0.6706287592107764\n",
      "Iteration 43 marginal likelihood: 0.6780697831069831\n",
      "Iteration 44 marginal likelihood: 0.6852582191928485\n",
      "Iteration 45 marginal likelihood: 0.6922035712017742\n",
      "Iteration 46 marginal likelihood: 0.6989151222899556\n",
      "Iteration 47 marginal likelihood: 0.7054018917685805\n",
      "Iteration 48 marginal likelihood: 0.7116725589404624\n",
      "Iteration 49 marginal likelihood: 0.7177355221010309\n",
      "Iteration 50 marginal likelihood: 0.723598884110277\n",
      "Iteration 51 marginal likelihood: 0.7292704674494265\n",
      "Iteration 52 marginal likelihood: 0.7347577499211698\n",
      "Iteration 53 marginal likelihood: 0.7400679144699007\n",
      "Iteration 54 marginal likelihood: 0.7452079739275018\n",
      "Iteration 55 marginal likelihood: 0.7501845036342563\n",
      "Iteration 56 marginal likelihood: 0.7550038629589754\n",
      "Iteration 57 marginal likelihood: 0.7596722261659811\n",
      "Iteration 58 marginal likelihood: 0.7641953445685503\n",
      "Iteration 59 marginal likelihood: 0.7685788532448526\n",
      "Iteration 60 marginal likelihood: 0.7728280387364634\n",
      "Iteration 61 marginal likelihood: 0.7769480645783873\n",
      "Iteration 62 marginal likelihood: 0.7809438341245853\n",
      "Iteration 63 marginal likelihood: 0.7848199446031482\n",
      "Iteration 64 marginal likelihood: 0.7885808886188538\n",
      "Iteration 65 marginal likelihood: 0.7922309444544087\n",
      "Iteration 66 marginal likelihood: 0.7957741950893501\n",
      "Iteration 67 marginal likelihood: 0.7992144657462154\n",
      "Iteration 68 marginal likelihood: 0.8025555481142214\n",
      "Iteration 69 marginal likelihood: 0.8058009509827249\n",
      "Iteration 70 marginal likelihood: 0.808954091689427\n",
      "Iteration 71 marginal likelihood: 0.8120182147534767\n",
      "Iteration 72 marginal likelihood: 0.8149963579444942\n",
      "Iteration 73 marginal likelihood: 0.8178915255717789\n",
      "Iteration 74 marginal likelihood: 0.8207065481412321\n",
      "Iteration 75 marginal likelihood: 0.8234440991039659\n",
      "Iteration 76 marginal likelihood: 0.8261067740777462\n",
      "Iteration 77 marginal likelihood: 0.828696999202049\n",
      "Iteration 78 marginal likelihood: 0.8312171487429733\n",
      "Iteration 79 marginal likelihood: 0.8336694540649562\n",
      "Iteration 80 marginal likelihood: 0.83605608571789\n",
      "Iteration 81 marginal likelihood: 0.8383790623655973\n",
      "Iteration 82 marginal likelihood: 0.8406403463733175\n",
      "Iteration 83 marginal likelihood: 0.8428417779620618\n",
      "Iteration 84 marginal likelihood: 0.8449851344638916\n",
      "Iteration 85 marginal likelihood: 0.8470721402247798\n",
      "Iteration 86 marginal likelihood: 0.8491043629486192\n",
      "Iteration 87 marginal likelihood: 0.8510833623844799\n",
      "Iteration 88 marginal likelihood: 0.8530105997797968\n",
      "Iteration 89 marginal likelihood: 0.8548874353897539\n",
      "Iteration 90 marginal likelihood: 0.8567151771855465\n",
      "Iteration 91 marginal likelihood: 0.8584951047427481\n",
      "Iteration 92 marginal likelihood: 0.8602283525185327\n",
      "Iteration 93 marginal likelihood: 0.8619160615433925\n",
      "Iteration 94 marginal likelihood: 0.8635592499247028\n",
      "Iteration 95 marginal likelihood: 0.8651589139962144\n",
      "Iteration 96 marginal likelihood: 0.8667159498876991\n",
      "Iteration 97 marginal likelihood: 0.8682312036962545\n",
      "Iteration 98 marginal likelihood: 0.8697054704382101\n",
      "Iteration 99 marginal likelihood: 0.8711394670914752\n"
     ]
    }
   ],
   "source": [
    "y = torch.tensor(win.data, dtype=torch.float32)\n",
    "X = torch.tensor(win.train_anchors, dtype=torch.float32)\n",
    "params = torch.tensor([0.5,0.5, 0.5], dtype=torch.float32)\n",
    "shp = np.hstack((np.array(y.shape[:2]), np.array(y.shape[3])))\n",
    "params = params.repeat(*shp, 1)\n",
    "\n",
    "# params at front\n",
    "params = params.permute(*np.roll(np.arange(len(params.shape)),1))\n",
    "\n",
    "params = optimize_params(params, y, X, lr = 0.01, n_iter = 100)"
   ],
   "metadata": {
    "collapsed": false,
    "pycharm": {
     "name": "#%%\n"
    }
   }
  },
  {
   "cell_type": "code",
   "execution_count": null,
   "outputs": [],
   "source": [],
   "metadata": {
    "collapsed": false,
    "pycharm": {
     "name": "#%%\n"
    }
   }
  },
  {
   "cell_type": "code",
   "execution_count": 503,
   "outputs": [
    {
     "data": {
      "text/plain": "tensor([-0.0389,  0.8103,  0.8129], grad_fn=<SelectBackward0>)"
     },
     "execution_count": 503,
     "metadata": {},
     "output_type": "execute_result"
    }
   ],
   "source": [
    "def predict(params, X, y, X_star):\n",
    "    '''\n",
    "    Predict the output for a given set of inputs\n",
    "\n",
    "    :param params: parameters for the covariance kernel and mean function\n",
    "    :param X: inputs\n",
    "    :return: predicted output\n",
    "    '''\n",
    "\n",
    "    nan = torch.isnan(y)\n",
    "    nanT = nan.transpose(-1,-2)\n",
    "    nan_ind = torch.where(nanT)\n",
    "    y = torch.where(nan, torch.tensor(0.0), y)\n",
    "    yT = y.transpose(-1,-2)\n",
    "\n",
    "    # get covariance matrix and set rows/columns where nan to 0 as these are technically not datapoints\n",
    "    cov = cov_kernel(X, X[...,None],params)\n",
    "    cov[nanT,:] = 0\n",
    "    cov.transpose(-1,-2)[nanT,:] = 0\n",
    "    cov[nan_ind[0],nan_ind[1],nan_ind[2],nan_ind[3],nan_ind[3]] = 1 # The trick is to set the \"fake\" datapoints diagonal to 1 and rest of its row and column to 1, this way it is like it's not there for the determinant and inverse\n",
    "    inv_cov = inv(cov)\n",
    "\n",
    "    # Get cov star\n",
    "    cov_star = cov_kernel(X, X_star[...,None],params)\n",
    "    cov_star[nanT,:] = 0\n",
    "\n",
    "    return res"
   ],
   "metadata": {
    "collapsed": false,
    "pycharm": {
     "name": "#%%\n"
    }
   }
  },
  {
   "cell_type": "code",
   "execution_count": 530,
   "outputs": [],
   "source": [
    "y = torch.tensor(win.data, dtype=torch.float32)\n",
    "X = torch.tensor(win.train_anchors, dtype=torch.float32)\n",
    "X_star = torch.tensor(win.target_anchors[1:], dtype=torch.float32)\n",
    "\n",
    "nan = torch.isnan(y)\n",
    "nanT = nan.transpose(-1,-2)\n",
    "nan_ind = torch.where(nanT)\n",
    "y = torch.where(nan, torch.tensor(0.0), y)\n",
    "\n",
    "# get covariance matrix and set rows/columns where nan to 0 as these are technically not datapoints\n",
    "cov = cov_kernel(X, X[...,None],params)\n",
    "cov[nanT,:] = 0\n",
    "cov.transpose(-1,-2)[nanT,:] = 0\n",
    "cov[nan_ind[0],nan_ind[1],nan_ind[2],nan_ind[3],nan_ind[3]] = 1 # The trick is to set the \"fake\" datapoints diagonal to 1 and rest of its row and column to 1, this way it is like it's not there for the determinant and inverse\n",
    "\n",
    "inv_cov = inv(cov)\n",
    "\n",
    "# Get cov star\n",
    "cov_star = cov_kernel(X, X_star[...,None],params)\n",
    "\n",
    "# einsum\n",
    "res = torch.einsum('...ij,...jk,...k', cov_star, inv_cov, y)\n"
   ],
   "metadata": {
    "collapsed": false,
    "pycharm": {
     "name": "#%%\n"
    }
   }
  },
  {
   "cell_type": "code",
   "execution_count": 538,
   "outputs": [
    {
     "data": {
      "text/plain": "tensor([0.6918, 0.7355, 0.7846, 0.8308, 0.8681, 0.8979, 0.9212, 0.9392, 0.9486,\n        0.9562, 0.9611, 0.9649, 0.9666, 0.9695, 0.0000])"
     },
     "execution_count": 538,
     "metadata": {},
     "output_type": "execute_result"
    }
   ],
   "source": [
    "y[0,0,:,-1]"
   ],
   "metadata": {
    "collapsed": false,
    "pycharm": {
     "name": "#%%\n"
    }
   }
  },
  {
   "cell_type": "code",
   "execution_count": 541,
   "outputs": [
    {
     "data": {
      "text/plain": "tensor(2.3192e-07, grad_fn=<SelectBackward0>)"
     },
     "execution_count": 541,
     "metadata": {},
     "output_type": "execute_result"
    }
   ],
   "source": [
    "res[0,0,-1,-3]"
   ],
   "metadata": {
    "collapsed": false,
    "pycharm": {
     "name": "#%%\n"
    }
   }
  },
  {
   "cell_type": "code",
   "execution_count": 529,
   "outputs": [
    {
     "data": {
      "text/plain": "torch.Size([248, 20, 15, 15, 15])"
     },
     "execution_count": 529,
     "metadata": {},
     "output_type": "execute_result"
    }
   ],
   "source": [
    "inv_cov.shape"
   ],
   "metadata": {
    "collapsed": false,
    "pycharm": {
     "name": "#%%\n"
    }
   }
  },
  {
   "cell_type": "code",
   "execution_count": 528,
   "outputs": [
    {
     "data": {
      "text/plain": "torch.Size([248, 20, 15, 14, 15])"
     },
     "execution_count": 528,
     "metadata": {},
     "output_type": "execute_result"
    }
   ],
   "source": [
    "cov_star.shape"
   ],
   "metadata": {
    "collapsed": false,
    "pycharm": {
     "name": "#%%\n"
    }
   }
  },
  {
   "cell_type": "code",
   "execution_count": 517,
   "outputs": [
    {
     "data": {
      "text/plain": "torch.Size([248, 20, 15, 14, 15])"
     },
     "execution_count": 517,
     "metadata": {},
     "output_type": "execute_result"
    }
   ],
   "source": [
    "cov_star.shape"
   ],
   "metadata": {
    "collapsed": false,
    "pycharm": {
     "name": "#%%\n"
    }
   }
  },
  {
   "cell_type": "code",
   "execution_count": 519,
   "outputs": [
    {
     "data": {
      "text/plain": "torch.Size([248, 20, 15, 15])"
     },
     "execution_count": 519,
     "metadata": {},
     "output_type": "execute_result"
    }
   ],
   "source": [
    "y.shape"
   ],
   "metadata": {
    "collapsed": false,
    "pycharm": {
     "name": "#%%\n"
    }
   }
  },
  {
   "cell_type": "code",
   "execution_count": 512,
   "outputs": [
    {
     "data": {
      "text/plain": "tensor([-0.2294,  0.8053,  0.9536], grad_fn=<SelectBackward0>)"
     },
     "execution_count": 512,
     "metadata": {},
     "output_type": "execute_result"
    }
   ],
   "source": [
    "params[:,0,0,0]"
   ],
   "metadata": {
    "collapsed": false,
    "pycharm": {
     "name": "#%%\n"
    }
   }
  },
  {
   "cell_type": "markdown",
   "source": [
    "## This is where I tested"
   ],
   "metadata": {
    "collapsed": false,
    "pycharm": {
     "name": "#%% md\n"
    }
   }
  },
  {
   "cell_type": "code",
   "execution_count": 206,
   "outputs": [],
   "source": [
    "# set mean\n",
    "mean = 0.5\n",
    "\n",
    "# actual outputs + make nans 0 for einsum\n",
    "y = torch.tensor(win.data, dtype=torch.float32) - mean\n",
    "nan = torch.isnan(y)\n",
    "nanT = nan.transpose(-1,-2)\n",
    "nan_ind = torch.where(nanT)\n",
    "y = torch.where(nan, torch.tensor(0.0), y)\n",
    "\n",
    "# Train acnhors\n",
    "train_anchors = torch.tensor(win.train_anchors, dtype=torch.float32)\n",
    "\n",
    "# set hyperparameters\n",
    "params = torch.tensor([0.5, 1, 1], dtype=torch.float32)\n",
    "shp = np.hstack((np.array(y.shape[:2]), np.array(y.shape[3])))\n",
    "params = params.repeat(*shp, 1)\n",
    "\n",
    "# params at front\n",
    "params = params.permute(*np.roll(np.arange(len(params.shape)),1))\n",
    "\n",
    "# get covariance matrix and set rows/columns where nan to 0 as these are technically not datapoints\n",
    "cov = cov_kernel(train_anchors, train_anchors[...,None],params)\n",
    "cov[nanT,:] = 0\n",
    "cov.transpose(-1,-2)[nanT,:] = 0\n",
    "cov[nan_ind[0],nan_ind[1],nan_ind[2],nan_ind[3],nan_ind[3]] = 1 # The trick is to set the \"fake\" datapoints diagonal to 1 and rest of its row and column to 1, this way it is like it's not there for the determinant and inverse\n",
    "inv_cov = inv(cov)\n",
    "\n",
    "# calculate the matrix multiplication\n",
    "matmul = torch.einsum('...i,...ij,...j', y.transpose(-1,-2), inv_cov, y.transpose(-1,-2))\n",
    "\n",
    "# we also need the determinant of the covariance matrix\n",
    "det_cov = det(cov)\n",
    "\n",
    "# and the number of actual datapoints\n",
    "n = len(train_anchors) - nan.sum(axis = -2)\n",
    "\n",
    "res = -1/2 * matmul -1/2 * torch.log(det_cov) - n/2 * torch.log(torch.tensor(2*torch.pi))"
   ],
   "metadata": {
    "collapsed": false,
    "pycharm": {
     "name": "#%%\n"
    }
   }
  },
  {
   "cell_type": "code",
   "execution_count": 207,
   "outputs": [
    {
     "data": {
      "text/plain": "torch.Size([248, 20, 15])"
     },
     "execution_count": 207,
     "metadata": {},
     "output_type": "execute_result"
    }
   ],
   "source": [
    "matmul.shape"
   ],
   "metadata": {
    "collapsed": false,
    "pycharm": {
     "name": "#%%\n"
    }
   }
  },
  {
   "cell_type": "code",
   "execution_count": 208,
   "outputs": [
    {
     "data": {
      "text/plain": "tensor([[[ -1.0148,  -2.0120,  -3.0026,  ..., -12.9652, -13.9693, -14.9756],\n         [ -1.0133,  -2.0098,  -2.9994,  ..., -12.9744, -13.9847, -14.9975],\n         [ -1.0009,  -1.9849,  -2.9613,  ..., -12.8883, -13.8918, -14.8982],\n         ...,\n         [ -1.0076,  -1.9954,  -2.9713,  ..., -12.7774, -13.7783, -14.7834],\n         [ -0.0000,  -0.0000,  -0.0000,  ...,  -0.0000,  -0.0000,  -0.0000],\n         [ -0.0000,  -0.0000,  -0.0000,  ...,  -0.0000,  -0.0000,  -0.0000]],\n\n        [[ -1.0456,  -2.0524,  -3.0361,  ..., -12.4359, -13.3636, -14.2900],\n         [ -1.0495,  -2.0579,  -3.0409,  ..., -12.5937, -13.5734, -14.5581],\n         [ -1.0724,  -2.1019,  -3.1068,  ..., -12.6270, -13.5963, -14.5725],\n         ...,\n         [ -1.0655,  -2.0895,  -3.0876,  ..., -12.5311, -13.4661, -14.4042],\n         [ -1.0650,  -2.0771,  -3.0632,  ..., -12.5238, -13.4679, -14.4113],\n         [ -0.0000,  -0.0000,  -0.0000,  ...,  -0.0000,  -0.0000,  -0.0000]],\n\n        [[ -1.0407,  -2.0598,  -3.0617,  ...,  -8.9398,  -8.9398,  -8.9398],\n         [ -1.0200,  -2.0195,  -3.0078,  ...,  -8.9670,  -8.9670,  -8.9670],\n         [ -1.0253,  -2.0302,  -3.0234,  ...,  -8.9056,  -8.9056,  -8.9056],\n         ...,\n         [ -1.0051,  -1.9895,  -2.9599,  ...,  -8.6887,  -8.6887,  -8.6887],\n         [ -1.0274,  -2.0347,  -3.0282,  ...,  -8.9084,  -8.9084,  -8.9084],\n         [ -1.0129,  -2.0062,  -2.9900,  ...,  -8.9057,  -8.9057,  -8.9057]],\n\n        ...,\n\n        [[ -0.9992,  -1.9769,  -2.9414,  ..., -12.3408, -13.2730, -14.2048],\n         [ -0.0000,  -0.0000,  -0.0000,  ...,  -0.0000,  -0.0000,  -0.0000],\n         [ -0.0000,  -0.0000,  -0.0000,  ...,  -0.0000,  -0.0000,  -0.0000],\n         ...,\n         [ -0.9993,  -1.9770,  -2.9414,  ..., -12.3164, -13.2430, -14.1688],\n         [ -0.9993,  -1.9770,  -2.9414,  ..., -12.3417, -13.2739, -14.2057],\n         [ -0.9992,  -1.9768,  -2.9412,  ..., -12.3393, -13.2720, -14.2042]],\n\n        [[ -0.9995,  -1.9784,  -2.9445,  ..., -10.4821, -10.4821, -10.4821],\n         [ -1.0000,  -1.9806,  -2.9509,  ..., -10.5445, -10.5445, -10.5445],\n         [ -0.9997,  -1.9820,  -2.9552,  ..., -10.6657, -10.6657, -10.6657],\n         ...,\n         [ -1.0004,  -1.9802,  -2.9459,  ..., -10.4900, -10.4900, -10.4900],\n         [ -0.9992,  -1.9768,  -2.9413,  ..., -10.4738, -10.4738, -10.4738],\n         [ -0.9993,  -1.9770,  -2.9414,  ..., -10.4584, -10.4584, -10.4584]],\n\n        [[ -0.9999,  -1.9794,  -2.9455,  ..., -12.3323, -13.2594, -14.1853],\n         [ -1.0007,  -1.9816,  -2.9501,  ..., -12.3934, -13.3268, -14.2578],\n         [ -1.0009,  -1.9883,  -2.9649,  ..., -12.5324, -13.4848, -14.4377],\n         ...,\n         [ -1.0003,  -1.9801,  -2.9459,  ..., -12.3511, -13.2826, -14.2145],\n         [ -0.9992,  -1.9768,  -2.9412,  ..., -12.3240, -13.2512, -14.1777],\n         [ -0.9995,  -1.9772,  -2.9416,  ..., -12.3139, -13.2399, -14.1650]]])"
     },
     "execution_count": 208,
     "metadata": {},
     "output_type": "execute_result"
    }
   ],
   "source": [
    "res"
   ],
   "metadata": {
    "collapsed": false,
    "pycharm": {
     "name": "#%%\n"
    }
   }
  },
  {
   "cell_type": "code",
   "execution_count": 202,
   "outputs": [
    {
     "data": {
      "text/plain": "tensor([[[ -1.0148,  -2.0120,  -3.0026,  ..., -12.9652, -13.9693, -14.9756],\n         [ -1.0133,  -2.0098,  -2.9994,  ..., -12.9744, -13.9847, -14.9975],\n         [ -1.0009,  -1.9849,  -2.9613,  ..., -12.8883, -13.8918, -14.8982],\n         ...,\n         [ -1.0076,  -1.9954,  -2.9713,  ..., -12.7774, -13.7783, -14.7834],\n         [ -0.0000,  -0.0000,  -0.0000,  ...,  -0.0000,  -0.0000,  -0.0000],\n         [ -0.0000,  -0.0000,  -0.0000,  ...,  -0.0000,  -0.0000,  -0.0000]],\n\n        [[ -1.0456,  -2.0524,  -3.0361,  ..., -12.4359, -13.3636, -14.2900],\n         [ -1.0495,  -2.0579,  -3.0409,  ..., -12.5937, -13.5734, -14.5581],\n         [ -1.0724,  -2.1019,  -3.1068,  ..., -12.6270, -13.5963, -14.5725],\n         ...,\n         [ -1.0655,  -2.0895,  -3.0876,  ..., -12.5311, -13.4661, -14.4042],\n         [ -1.0650,  -2.0771,  -3.0632,  ..., -12.5238, -13.4679, -14.4113],\n         [ -0.0000,  -0.0000,  -0.0000,  ...,  -0.0000,  -0.0000,  -0.0000]],\n\n        [[ -1.0407,  -2.0598,  -3.0617,  ...,  -8.9398,  -8.9398,  -8.9398],\n         [ -1.0200,  -2.0195,  -3.0078,  ...,  -8.9670,  -8.9670,  -8.9670],\n         [ -1.0253,  -2.0302,  -3.0234,  ...,  -8.9056,  -8.9056,  -8.9056],\n         ...,\n         [ -1.0051,  -1.9895,  -2.9599,  ...,  -8.6887,  -8.6887,  -8.6887],\n         [ -1.0274,  -2.0347,  -3.0282,  ...,  -8.9084,  -8.9084,  -8.9084],\n         [ -1.0129,  -2.0062,  -2.9900,  ...,  -8.9057,  -8.9057,  -8.9057]],\n\n        ...,\n\n        [[ -0.9992,  -1.9769,  -2.9414,  ..., -12.3408, -13.2730, -14.2048],\n         [ -0.0000,  -0.0000,  -0.0000,  ...,  -0.0000,  -0.0000,  -0.0000],\n         [ -0.0000,  -0.0000,  -0.0000,  ...,  -0.0000,  -0.0000,  -0.0000],\n         ...,\n         [ -0.9993,  -1.9770,  -2.9414,  ..., -12.3164, -13.2430, -14.1688],\n         [ -0.9993,  -1.9770,  -2.9414,  ..., -12.3417, -13.2739, -14.2057],\n         [ -0.9992,  -1.9768,  -2.9412,  ..., -12.3393, -13.2720, -14.2042]],\n\n        [[ -0.9995,  -1.9784,  -2.9445,  ..., -10.4821, -10.4821, -10.4821],\n         [ -1.0000,  -1.9806,  -2.9509,  ..., -10.5445, -10.5445, -10.5445],\n         [ -0.9997,  -1.9820,  -2.9552,  ..., -10.6657, -10.6657, -10.6657],\n         ...,\n         [ -1.0004,  -1.9802,  -2.9459,  ..., -10.4900, -10.4900, -10.4900],\n         [ -0.9992,  -1.9768,  -2.9413,  ..., -10.4738, -10.4738, -10.4738],\n         [ -0.9993,  -1.9770,  -2.9414,  ..., -10.4584, -10.4584, -10.4584]],\n\n        [[ -0.9999,  -1.9794,  -2.9455,  ..., -12.3323, -13.2594, -14.1853],\n         [ -1.0007,  -1.9816,  -2.9501,  ..., -12.3934, -13.3268, -14.2578],\n         [ -1.0009,  -1.9883,  -2.9649,  ..., -12.5324, -13.4848, -14.4377],\n         ...,\n         [ -1.0003,  -1.9801,  -2.9459,  ..., -12.3511, -13.2826, -14.2145],\n         [ -0.9992,  -1.9768,  -2.9412,  ..., -12.3240, -13.2512, -14.1777],\n         [ -0.9995,  -1.9772,  -2.9416,  ..., -12.3139, -13.2399, -14.1650]]])"
     },
     "execution_count": 202,
     "metadata": {},
     "output_type": "execute_result"
    }
   ],
   "source": [
    "res"
   ],
   "metadata": {
    "collapsed": false,
    "pycharm": {
     "name": "#%%\n"
    }
   }
  },
  {
   "cell_type": "code",
   "execution_count": 133,
   "outputs": [
    {
     "data": {
      "text/plain": "array([[ 9.72042725e-01, -2.29787231e-02, -1.86854990e-02,\n        -1.47030689e-02, -1.12007496e-02, -8.36022889e-03,\n        -6.19869856e-03, -4.51977466e-03, -3.26511043e-03,\n        -2.34366939e-03, -1.67402318e-03, -1.19202830e-03,\n        -8.46708936e-04, -6.00623575e-04, -4.25527160e-04],\n       [-2.29787231e-02,  9.80468894e-01, -1.63661872e-02,\n        -1.32554962e-02, -1.03675265e-02, -7.91133384e-03,\n        -5.96855316e-03, -4.41266745e-03, -3.22171857e-03,\n        -2.33098479e-03, -1.67478566e-03, -1.19770773e-03,\n        -8.53399597e-04, -6.06730024e-04, -4.30546218e-04],\n       [-1.86854990e-02, -1.63661872e-02,  9.85891869e-01,\n        -1.17584763e-02, -9.45181280e-03, -7.38741310e-03,\n        -5.68277039e-03, -4.26894077e-03, -3.15589536e-03,\n        -2.30515524e-03, -1.66804393e-03, -1.19915086e-03,\n        -8.57699934e-04, -6.11474848e-04, -4.34776956e-04],\n       [-1.47030689e-02, -1.32554962e-02, -1.17584763e-02,\n         9.89897210e-01, -8.37307471e-03, -6.73054061e-03,\n        -5.30186571e-03, -4.06382241e-03, -3.05326100e-03,\n        -2.25844002e-03, -1.64995764e-03, -1.19464242e-03,\n        -8.58974371e-04, -6.14727366e-04, -4.38298098e-04],\n       [-1.12007496e-02, -1.03675265e-02, -9.45181280e-03,\n        -8.37307471e-03,  9.92831593e-01, -5.94620989e-03,\n        -4.81672241e-03, -3.78440693e-03, -2.90250175e-03,\n        -2.18263444e-03, -1.61516098e-03, -1.18087644e-03,\n        -8.55252690e-04, -6.15329353e-04, -4.40428962e-04],\n       [-8.36022889e-03, -7.91133384e-03, -7.38741310e-03,\n        -6.73054061e-03, -5.94620989e-03,  9.94905992e-01,\n        -4.25323163e-03, -3.43722232e-03, -2.70174821e-03,\n        -2.07356413e-03, -1.55974932e-03, -1.15492937e-03,\n        -8.44552253e-04, -6.11997501e-04, -4.40354264e-04],\n       [-6.19869856e-03, -5.96855316e-03, -5.68277039e-03,\n        -5.30186571e-03, -4.81672241e-03, -4.25323163e-03,\n         9.96340339e-01, -3.04632618e-03, -2.46029983e-03,\n        -1.93328579e-03, -1.48301878e-03, -1.11546296e-03,\n        -8.25680754e-04, -6.03861121e-04, -4.37489735e-04],\n       [-4.51977466e-03, -4.41266745e-03, -4.26894077e-03,\n        -4.06382241e-03, -3.78440693e-03, -3.43722232e-03,\n        -3.04632618e-03,  9.97384958e-01, -2.17590375e-03,\n        -1.75709650e-03, -1.38023273e-03, -1.05880757e-03,\n        -7.96196849e-04, -5.89455988e-04, -4.31024403e-04],\n       [-3.26511043e-03, -3.22171857e-03, -3.15589536e-03,\n        -3.05326100e-03, -2.90250175e-03, -2.70174821e-03,\n        -2.46029983e-03, -2.17590375e-03,  9.98133228e-01,\n        -1.55278778e-03, -1.25330249e-03, -9.84376338e-04,\n        -7.54876211e-04, -5.67684691e-04, -4.20177958e-04],\n       [-2.34366939e-03, -2.33098479e-03, -2.30515524e-03,\n        -2.25844002e-03, -2.18263444e-03, -2.07356413e-03,\n        -1.93328579e-03, -1.75709650e-03, -1.55278778e-03,\n         9.98668531e-01, -1.10680638e-03, -8.93079692e-04,\n        -7.01123447e-04, -5.37630667e-04, -4.04180877e-04],\n       [-1.67402318e-03, -1.67478566e-03, -1.66804393e-03,\n        -1.64995764e-03, -1.61516098e-03, -1.55974932e-03,\n        -1.48301878e-03, -1.38023273e-03, -1.25330249e-03,\n        -1.10680638e-03,  9.99051655e-01, -7.88005325e-04,\n        -6.35500113e-04, -4.98834284e-04, -3.82370554e-04],\n       [-1.19202830e-03, -1.19770773e-03, -1.19915086e-03,\n        -1.19464242e-03, -1.18087644e-03, -1.15492937e-03,\n        -1.11546296e-03, -1.05880757e-03, -9.84376338e-04,\n        -8.93079692e-04, -7.88005325e-04,  9.99325187e-01,\n        -5.60369351e-04, -4.51802494e-04, -3.54485889e-04],\n       [-8.46708936e-04, -8.53399597e-04, -8.57699934e-04,\n        -8.58974371e-04, -8.55252690e-04, -8.44552253e-04,\n        -8.25680754e-04, -7.96196849e-04, -7.54876211e-04,\n        -7.01123447e-04, -6.35500113e-04, -5.60369351e-04,\n         9.99520445e-01, -3.98094735e-04, -3.20818195e-04],\n       [-6.00623575e-04, -6.06730024e-04, -6.11474848e-04,\n        -6.14727366e-04, -6.15329353e-04, -6.11997501e-04,\n        -6.03861121e-04, -5.89455988e-04, -5.67684691e-04,\n        -5.37630667e-04, -4.98834284e-04, -4.51802494e-04,\n        -3.98094735e-04,  9.99659462e-01, -2.82546530e-04],\n       [-4.25527160e-04, -4.30546218e-04, -4.34776956e-04,\n        -4.38298098e-04, -4.40428962e-04, -4.40354264e-04,\n        -4.37489735e-04, -4.31024403e-04, -4.20177958e-04,\n        -4.04180877e-04, -3.82370554e-04, -3.54485889e-04,\n        -3.20818195e-04, -2.82546530e-04,  9.99758431e-01]])"
     },
     "execution_count": 133,
     "metadata": {},
     "output_type": "execute_result"
    }
   ],
   "source": [
    "inv_cov"
   ],
   "metadata": {
    "collapsed": false,
    "pycharm": {
     "name": "#%%\n"
    }
   }
  },
  {
   "cell_type": "code",
   "execution_count": 82,
   "outputs": [
    {
     "name": "stdout",
     "output_type": "stream",
     "text": [
      "tensor([[-1.4167,  0.6667, -0.2500],\n",
      "        [ 0.8333, -0.3333,  0.5000],\n",
      "        [ 0.2500,  0.0000, -0.2500]])\n"
     ]
    }
   ],
   "source": [
    "A = np.array([[1,2,3],[4,5,6],[1,2,-1]])\n",
    "A = torch.tensor(A,dtype=torch.float32)\n",
    "print(inv(A))"
   ],
   "metadata": {
    "collapsed": false,
    "pycharm": {
     "name": "#%%\n"
    }
   }
  },
  {
   "cell_type": "code",
   "execution_count": 138,
   "outputs": [
    {
     "name": "stdout",
     "output_type": "stream",
     "text": [
      "tensor([[ 1.,  0.,  3.],\n",
      "        [ 0.,  1.,  0.],\n",
      "        [ 1.,  0., -1.]])\n",
      "tensor([[ 0.2500,  0.0000,  0.7500],\n",
      "        [ 0.0000,  1.0000,  0.0000],\n",
      "        [ 0.2500,  0.0000, -0.2500]])\n"
     ]
    }
   ],
   "source": [
    "B = torch.tensor(np.array(torch.clone(A)),dtype=torch.float32)\n",
    "B[1,:] = 0\n",
    "B[:,1] = 0\n",
    "B[1,1] = 1\n",
    "print(B)\n",
    "print(inv(B))"
   ],
   "metadata": {
    "collapsed": false,
    "pycharm": {
     "name": "#%%\n"
    }
   }
  },
  {
   "cell_type": "code",
   "execution_count": 46,
   "outputs": [
    {
     "name": "stdout",
     "output_type": "stream",
     "text": [
      "tensor([[ 1.,  3.],\n",
      "        [ 1., -1.]])\n",
      "tensor([[ 0.2500,  0.7500],\n",
      "        [ 0.2500, -0.2500]])\n"
     ]
    }
   ],
   "source": [
    "C = torch.tensor(np.array([[1,3],[1,-1]]),dtype=torch.float32)\n",
    "print(C)\n",
    "print(inv(C))"
   ],
   "metadata": {
    "collapsed": false,
    "pycharm": {
     "name": "#%%\n"
    }
   }
  },
  {
   "cell_type": "code",
   "execution_count": 86,
   "outputs": [
    {
     "name": "stdout",
     "output_type": "stream",
     "text": [
      "tensor([[1., 0., 0.],\n",
      "        [0., 0., 0.],\n",
      "        [0., 0., 1.]])\n"
     ]
    }
   ],
   "source": [
    "Id = torch.eye(3)\n",
    "Id[1,:] = 0\n",
    "Id[:,1] = 0\n",
    "print(Id)"
   ],
   "metadata": {
    "collapsed": false,
    "pycharm": {
     "name": "#%%\n"
    }
   }
  },
  {
   "cell_type": "code",
   "execution_count": 89,
   "outputs": [
    {
     "ename": "_LinAlgError",
     "evalue": "torch.linalg.solve: The solver failed because the input matrix is singular.",
     "output_type": "error",
     "traceback": [
      "\u001B[1;31m---------------------------------------------------------------------------\u001B[0m",
      "\u001B[1;31m_LinAlgError\u001B[0m                              Traceback (most recent call last)",
      "Input \u001B[1;32mIn [89]\u001B[0m, in \u001B[0;36m<cell line: 1>\u001B[1;34m()\u001B[0m\n\u001B[1;32m----> 1\u001B[0m \u001B[43mtorch\u001B[49m\u001B[38;5;241;43m.\u001B[39;49m\u001B[43mlinalg\u001B[49m\u001B[38;5;241;43m.\u001B[39;49m\u001B[43msolve\u001B[49m\u001B[43m(\u001B[49m\u001B[43mB\u001B[49m\u001B[43m,\u001B[49m\u001B[43m \u001B[49m\u001B[43mId\u001B[49m\u001B[43m,\u001B[49m\u001B[43m \u001B[49m\u001B[43mleft\u001B[49m\u001B[38;5;241;43m=\u001B[39;49m\u001B[38;5;28;43;01mFalse\u001B[39;49;00m\u001B[43m)\u001B[49m\n",
      "\u001B[1;31m_LinAlgError\u001B[0m: torch.linalg.solve: The solver failed because the input matrix is singular."
     ]
    }
   ],
   "source": [
    "torch.linalg.solve(B, Id)"
   ],
   "metadata": {
    "collapsed": false,
    "pycharm": {
     "name": "#%%\n"
    }
   }
  },
  {
   "cell_type": "code",
   "execution_count": 79,
   "outputs": [
    {
     "data": {
      "text/plain": "array([[ 0.25,  0.75],\n       [ 0.25, -0.25]], dtype=float32)"
     },
     "execution_count": 79,
     "metadata": {},
     "output_type": "execute_result"
    }
   ],
   "source": [
    "inv_np(A[np.ix_([0,2], [0,2])])"
   ],
   "metadata": {
    "collapsed": false,
    "pycharm": {
     "name": "#%%\n"
    }
   }
  },
  {
   "cell_type": "code",
   "execution_count": 90,
   "outputs": [
    {
     "data": {
      "text/plain": "tensor([[ 0.2500,  0.0000,  0.7500],\n        [ 0.0000,  0.0000,  0.0000],\n        [ 0.2500,  0.0000, -0.2500]])"
     },
     "execution_count": 90,
     "metadata": {},
     "output_type": "execute_result"
    }
   ],
   "source": [
    "torch.linalg.pinv(B)"
   ],
   "metadata": {
    "collapsed": false,
    "pycharm": {
     "name": "#%%\n"
    }
   }
  },
  {
   "cell_type": "code",
   "execution_count": null,
   "outputs": [],
   "source": [],
   "metadata": {
    "collapsed": false,
    "pycharm": {
     "name": "#%%\n"
    }
   }
  }
 ],
 "metadata": {
  "kernelspec": {
   "display_name": "Python 3",
   "language": "python",
   "name": "python3"
  },
  "language_info": {
   "codemirror_mode": {
    "name": "ipython",
    "version": 2
   },
   "file_extension": ".py",
   "mimetype": "text/x-python",
   "name": "python",
   "nbconvert_exporter": "python",
   "pygments_lexer": "ipython2",
   "version": "2.7.6"
  }
 },
 "nbformat": 4,
 "nbformat_minor": 0
}