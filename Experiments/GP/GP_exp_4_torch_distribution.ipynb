{
 "cells": [
  {
   "cell_type": "code",
   "execution_count": 1,
   "outputs": [],
   "source": [
    "from MainFiles.GP import *\n",
    "import matplotlib.pyplot as plt\n",
    "import numpy as np\n",
    "import torch\n",
    "import torch.distributions as tdb\n",
    "from Windowing import *"
   ],
   "metadata": {
    "collapsed": false,
    "pycharm": {
     "name": "#%%\n"
    }
   }
  },
  {
   "cell_type": "markdown",
   "source": [
    "# Introduction\n",
    "First check if we can do batches of distribution then we optimize the whole thing"
   ],
   "metadata": {
    "collapsed": false,
    "pycharm": {
     "name": "#%% md\n"
    }
   }
  },
  {
   "cell_type": "code",
   "execution_count": 26,
   "outputs": [],
   "source": [
    "ts = torch.tensor([16,   23,   32,   45,   64,   91,  128,  181,  256,  362,  512,\n",
    "        724, 1024, 1448, 2048])\n",
    "\n",
    "params = torch.tensor([[0.5, 0.5],[0.5,0.5],[0.01,0.01]])\n",
    "means = torch.full((2,1),0.5)\n",
    "cov = cov_kernel(ts,ts[...,None], params)\n",
    "dist = tdb.multivariate_normal.MultivariateNormal(means,cov)"
   ],
   "metadata": {
    "collapsed": false,
    "pycharm": {
     "name": "#%%\n"
    }
   }
  },
  {
   "cell_type": "markdown",
   "source": [
    "# Method\n",
    "Indeed we can, nice! Now we need to optimize the whole thing"
   ],
   "metadata": {
    "collapsed": false,
    "pycharm": {
     "name": "#%% md\n"
    }
   }
  },
  {
   "cell_type": "code",
   "execution_count": 14,
   "outputs": [
    {
     "data": {
      "text/plain": "            Count\nsize_train       \n16            245\n23            246\n32            246\n40              1\n45            244\n...           ...\n1048576         2\n1482910         1\n1486391         1\n2097152         1\n2205023         1\n\n[201 rows x 1 columns]",
      "text/html": "<div>\n<style scoped>\n    .dataframe tbody tr th:only-of-type {\n        vertical-align: middle;\n    }\n\n    .dataframe tbody tr th {\n        vertical-align: top;\n    }\n\n    .dataframe thead th {\n        text-align: right;\n    }\n</style>\n<table border=\"1\" class=\"dataframe\">\n  <thead>\n    <tr style=\"text-align: right;\">\n      <th></th>\n      <th>Count</th>\n    </tr>\n    <tr>\n      <th>size_train</th>\n      <th></th>\n    </tr>\n  </thead>\n  <tbody>\n    <tr>\n      <th>16</th>\n      <td>245</td>\n    </tr>\n    <tr>\n      <th>23</th>\n      <td>246</td>\n    </tr>\n    <tr>\n      <th>32</th>\n      <td>246</td>\n    </tr>\n    <tr>\n      <th>40</th>\n      <td>1</td>\n    </tr>\n    <tr>\n      <th>45</th>\n      <td>244</td>\n    </tr>\n    <tr>\n      <th>...</th>\n      <td>...</td>\n    </tr>\n    <tr>\n      <th>1048576</th>\n      <td>2</td>\n    </tr>\n    <tr>\n      <th>1482910</th>\n      <td>1</td>\n    </tr>\n    <tr>\n      <th>1486391</th>\n      <td>1</td>\n    </tr>\n    <tr>\n      <th>2097152</th>\n      <td>1</td>\n    </tr>\n    <tr>\n      <th>2205023</th>\n      <td>1</td>\n    </tr>\n  </tbody>\n</table>\n<p>201 rows × 1 columns</p>\n</div>"
     },
     "metadata": {},
     "output_type": "display_data"
    }
   ],
   "source": [
    "win = Windowing(aggCurves)\n",
    "win.set_points([16,   23,   32,   45,   64,   91,  128,  181,  256,  362,  512,\n",
    "        724, 1024, 1448, 2048, 2896])"
   ],
   "metadata": {
    "collapsed": false,
    "pycharm": {
     "name": "#%%\n"
    }
   }
  },
  {
   "cell_type": "code",
   "execution_count": 107,
   "outputs": [],
   "source": [
    "def optimize_params(params, y, X, lr = 0.01, n_iter=100):\n",
    "        params = params.clone().requires_grad_(True)\n",
    "        nan = torch.isnan(y)\n",
    "        nanT = nan.transpose(-1,-2)\n",
    "        nan_ind = torch.where(nanT)\n",
    "        y = torch.where(nan, torch.tensor(0.0), y)\n",
    "\n",
    "        # make separate optimizers\n",
    "        optimizer = torch.optim.Adam([params], lr=lr)\n",
    "        gr = torch.ones(params.shape[1:])\n",
    "\n",
    "        losses = []\n",
    "        for i in range(n_iter):\n",
    "            optimizer.zero_grad()\n",
    "            means = params[0].repeat(15,1,1,1).permute(1,2,3,0)\n",
    "            cov = cov_kernel(X,X[...,None],params[1:])\n",
    "            cov[nanT,:] = 0\n",
    "            cov.transpose(-1,-2)[nanT,:] = 0\n",
    "            cov[nan_ind[0],nan_ind[1],nan_ind[2],nan_ind[3],nan_ind[3]] = 1 # set diagonal to 1\n",
    "            N = tdb.MultivariateNormal(means,cov)\n",
    "            loss = -N.log_prob(y)\n",
    "            losses.append(loss.mean().item())\n",
    "            if i % 10 == 0:\n",
    "                print(f\"Iteration {i} loss mean: {loss.mean().item()}\")\n",
    "            loss.backward(gradient=gr)\n",
    "            optimizer.step()\n",
    "\n",
    "            # stop loop if last 10 losses are the same rounded to 3 decimals\n",
    "            if len(losses) > 10:\n",
    "                if np.mean(losses[-10:]) == losses[-1]:\n",
    "                    print(\"Stopped at iteration: \",i)\n",
    "                    break\n",
    "\n",
    "        return params, losses"
   ],
   "metadata": {
    "collapsed": false,
    "pycharm": {
     "name": "#%%\n"
    }
   }
  },
  {
   "cell_type": "code",
   "execution_count": 108,
   "outputs": [
    {
     "name": "stdout",
     "output_type": "stream",
     "text": [
      "Iteration 0 loss mean: 462.3446350097656\n",
      "Iteration 10 loss mean: 20.846223831176758\n"
     ]
    },
    {
     "ename": "KeyboardInterrupt",
     "evalue": "",
     "output_type": "error",
     "traceback": [
      "\u001B[1;31m---------------------------------------------------------------------------\u001B[0m",
      "\u001B[1;31mKeyboardInterrupt\u001B[0m                         Traceback (most recent call last)",
      "Input \u001B[1;32mIn [108]\u001B[0m, in \u001B[0;36m<cell line: 11>\u001B[1;34m()\u001B[0m\n\u001B[0;32m      8\u001B[0m \u001B[38;5;66;03m# params at front\u001B[39;00m\n\u001B[0;32m      9\u001B[0m params \u001B[38;5;241m=\u001B[39m params\u001B[38;5;241m.\u001B[39mpermute(\u001B[38;5;241m*\u001B[39mnp\u001B[38;5;241m.\u001B[39mroll(np\u001B[38;5;241m.\u001B[39marange(\u001B[38;5;28mlen\u001B[39m(params\u001B[38;5;241m.\u001B[39mshape)),\u001B[38;5;241m1\u001B[39m))\n\u001B[1;32m---> 11\u001B[0m params, losses \u001B[38;5;241m=\u001B[39m \u001B[43moptimize_params\u001B[49m\u001B[43m(\u001B[49m\u001B[43mparams\u001B[49m\u001B[43m,\u001B[49m\u001B[43m \u001B[49m\u001B[43my\u001B[49m\u001B[43m,\u001B[49m\u001B[43m \u001B[49m\u001B[43mX\u001B[49m\u001B[43m,\u001B[49m\u001B[43m \u001B[49m\u001B[43mlr\u001B[49m\u001B[43m \u001B[49m\u001B[38;5;241;43m=\u001B[39;49m\u001B[43m \u001B[49m\u001B[38;5;241;43m0.01\u001B[39;49m\u001B[43m,\u001B[49m\u001B[43m \u001B[49m\u001B[43mn_iter\u001B[49m\u001B[38;5;241;43m=\u001B[39;49m\u001B[38;5;241;43m100\u001B[39;49m\u001B[43m)\u001B[49m\n",
      "Input \u001B[1;32mIn [107]\u001B[0m, in \u001B[0;36moptimize_params\u001B[1;34m(params, y, X, lr, n_iter)\u001B[0m\n\u001B[0;32m     23\u001B[0m \u001B[38;5;28;01mif\u001B[39;00m i \u001B[38;5;241m%\u001B[39m \u001B[38;5;241m10\u001B[39m \u001B[38;5;241m==\u001B[39m \u001B[38;5;241m0\u001B[39m:\n\u001B[0;32m     24\u001B[0m     \u001B[38;5;28mprint\u001B[39m(\u001B[38;5;124mf\u001B[39m\u001B[38;5;124m\"\u001B[39m\u001B[38;5;124mIteration \u001B[39m\u001B[38;5;132;01m{\u001B[39;00mi\u001B[38;5;132;01m}\u001B[39;00m\u001B[38;5;124m loss mean: \u001B[39m\u001B[38;5;132;01m{\u001B[39;00mloss\u001B[38;5;241m.\u001B[39mmean()\u001B[38;5;241m.\u001B[39mitem()\u001B[38;5;132;01m}\u001B[39;00m\u001B[38;5;124m\"\u001B[39m)\n\u001B[1;32m---> 25\u001B[0m \u001B[43mloss\u001B[49m\u001B[38;5;241;43m.\u001B[39;49m\u001B[43mbackward\u001B[49m\u001B[43m(\u001B[49m\u001B[43mgradient\u001B[49m\u001B[38;5;241;43m=\u001B[39;49m\u001B[43mgr\u001B[49m\u001B[43m)\u001B[49m\n\u001B[0;32m     26\u001B[0m optimizer\u001B[38;5;241m.\u001B[39mstep()\n\u001B[0;32m     28\u001B[0m \u001B[38;5;66;03m# stop loop if last 10 losses are the same rounded to 3 decimals\u001B[39;00m\n",
      "File \u001B[1;32m~\\Anaconda3\\envs\\AMLthesis\\lib\\site-packages\\torch\\_tensor.py:488\u001B[0m, in \u001B[0;36mTensor.backward\u001B[1;34m(self, gradient, retain_graph, create_graph, inputs)\u001B[0m\n\u001B[0;32m    478\u001B[0m \u001B[38;5;28;01mif\u001B[39;00m has_torch_function_unary(\u001B[38;5;28mself\u001B[39m):\n\u001B[0;32m    479\u001B[0m     \u001B[38;5;28;01mreturn\u001B[39;00m handle_torch_function(\n\u001B[0;32m    480\u001B[0m         Tensor\u001B[38;5;241m.\u001B[39mbackward,\n\u001B[0;32m    481\u001B[0m         (\u001B[38;5;28mself\u001B[39m,),\n\u001B[1;32m   (...)\u001B[0m\n\u001B[0;32m    486\u001B[0m         inputs\u001B[38;5;241m=\u001B[39minputs,\n\u001B[0;32m    487\u001B[0m     )\n\u001B[1;32m--> 488\u001B[0m \u001B[43mtorch\u001B[49m\u001B[38;5;241;43m.\u001B[39;49m\u001B[43mautograd\u001B[49m\u001B[38;5;241;43m.\u001B[39;49m\u001B[43mbackward\u001B[49m\u001B[43m(\u001B[49m\n\u001B[0;32m    489\u001B[0m \u001B[43m    \u001B[49m\u001B[38;5;28;43mself\u001B[39;49m\u001B[43m,\u001B[49m\u001B[43m \u001B[49m\u001B[43mgradient\u001B[49m\u001B[43m,\u001B[49m\u001B[43m \u001B[49m\u001B[43mretain_graph\u001B[49m\u001B[43m,\u001B[49m\u001B[43m \u001B[49m\u001B[43mcreate_graph\u001B[49m\u001B[43m,\u001B[49m\u001B[43m \u001B[49m\u001B[43minputs\u001B[49m\u001B[38;5;241;43m=\u001B[39;49m\u001B[43minputs\u001B[49m\n\u001B[0;32m    490\u001B[0m \u001B[43m\u001B[49m\u001B[43m)\u001B[49m\n",
      "File \u001B[1;32m~\\Anaconda3\\envs\\AMLthesis\\lib\\site-packages\\torch\\autograd\\__init__.py:197\u001B[0m, in \u001B[0;36mbackward\u001B[1;34m(tensors, grad_tensors, retain_graph, create_graph, grad_variables, inputs)\u001B[0m\n\u001B[0;32m    192\u001B[0m     retain_graph \u001B[38;5;241m=\u001B[39m create_graph\n\u001B[0;32m    194\u001B[0m \u001B[38;5;66;03m# The reason we repeat same the comment below is that\u001B[39;00m\n\u001B[0;32m    195\u001B[0m \u001B[38;5;66;03m# some Python versions print out the first line of a multi-line function\u001B[39;00m\n\u001B[0;32m    196\u001B[0m \u001B[38;5;66;03m# calls in the traceback and some print out the last line\u001B[39;00m\n\u001B[1;32m--> 197\u001B[0m \u001B[43mVariable\u001B[49m\u001B[38;5;241;43m.\u001B[39;49m\u001B[43m_execution_engine\u001B[49m\u001B[38;5;241;43m.\u001B[39;49m\u001B[43mrun_backward\u001B[49m\u001B[43m(\u001B[49m\u001B[43m  \u001B[49m\u001B[38;5;66;43;03m# Calls into the C++ engine to run the backward pass\u001B[39;49;00m\n\u001B[0;32m    198\u001B[0m \u001B[43m    \u001B[49m\u001B[43mtensors\u001B[49m\u001B[43m,\u001B[49m\u001B[43m \u001B[49m\u001B[43mgrad_tensors_\u001B[49m\u001B[43m,\u001B[49m\u001B[43m \u001B[49m\u001B[43mretain_graph\u001B[49m\u001B[43m,\u001B[49m\u001B[43m \u001B[49m\u001B[43mcreate_graph\u001B[49m\u001B[43m,\u001B[49m\u001B[43m \u001B[49m\u001B[43minputs\u001B[49m\u001B[43m,\u001B[49m\n\u001B[0;32m    199\u001B[0m \u001B[43m    \u001B[49m\u001B[43mallow_unreachable\u001B[49m\u001B[38;5;241;43m=\u001B[39;49m\u001B[38;5;28;43;01mTrue\u001B[39;49;00m\u001B[43m,\u001B[49m\u001B[43m \u001B[49m\u001B[43maccumulate_grad\u001B[49m\u001B[38;5;241;43m=\u001B[39;49m\u001B[38;5;28;43;01mTrue\u001B[39;49;00m\u001B[43m)\u001B[49m\n",
      "\u001B[1;31mKeyboardInterrupt\u001B[0m: "
     ]
    }
   ],
   "source": [
    "y = torch.tensor(win.data, dtype=torch.float32)\n",
    "X = torch.tensor(win.train_anchors, dtype=torch.float32)\n",
    "\n",
    "params = torch.tensor([0.5,0.5,0.5, 0.01], dtype=torch.float32)\n",
    "shp = np.hstack((np.array(y.shape[:2]), np.array(y.shape[3])))\n",
    "params = params.repeat(*shp, 1)\n",
    "\n",
    "# params at front\n",
    "params = params.permute(*np.roll(np.arange(len(params.shape)),1))\n",
    "\n",
    "params, losses = optimize_params(params, y, X, lr = 0.01, n_iter=100)"
   ],
   "metadata": {
    "collapsed": false,
    "pycharm": {
     "name": "#%%\n"
    }
   }
  },
  {
   "cell_type": "markdown",
   "source": [
    "# Test"
   ],
   "metadata": {
    "collapsed": false,
    "pycharm": {
     "name": "#%% md\n"
    }
   }
  },
  {
   "cell_type": "code",
   "execution_count": 71,
   "outputs": [
    {
     "data": {
      "text/plain": "<matplotlib.legend.Legend at 0x1d920b3b580>"
     },
     "execution_count": 71,
     "metadata": {},
     "output_type": "execute_result"
    },
    {
     "data": {
      "text/plain": "<Figure size 432x288 with 1 Axes>",
      "image/png": "[encoded data removed]"
     },
     "metadata": {
      "needs_background": "light"
     },
     "output_type": "display_data"
    }
   ],
   "source": [
    "# For specific curve\n",
    "curve = win.data[1,0,:,-1]\n",
    "\n",
    "# Now lets compare\n",
    "plt.plot(X,curve, label=\"Original\")\n",
    "\n",
    "# We sample 1000 times and take the mean\n",
    "means = params[0,1,0,-1].repeat(X.shape[0])\n",
    "cov = cov_kernel(X,X[...,None],params[1:,1,0,-1])\n",
    "\n",
    "S = tdb.MultivariateNormal(means,cov).sample(sample_shape=torch.Size([1000])).mean(0)\n",
    "plt.plot(X,S, label=\"Sampled\")\n",
    "\n",
    "plt.title(\"Original vs Sampled\")\n",
    "plt.legend()"
   ],
   "metadata": {
    "collapsed": false,
    "pycharm": {
     "name": "#%%\n"
    }
   }
  },
  {
   "cell_type": "code",
   "execution_count": 73,
   "outputs": [
    {
     "data": {
      "text/plain": "tensor([0.3623, 0.3620, 0.6148, 0.0950], grad_fn=<SelectBackward0>)"
     },
     "execution_count": 73,
     "metadata": {},
     "output_type": "execute_result"
    }
   ],
   "source": [
    "params[:,1,0,-1]"
   ],
   "metadata": {
    "collapsed": false,
    "pycharm": {
     "name": "#%%\n"
    }
   }
  },
  {
   "cell_type": "code",
   "execution_count": null,
   "outputs": [],
   "source": [
    "# repeat 15 times into last dimension\n",
    "params[0].repeat(15,1,1,1).permute(1,2,3,0).shape"
   ],
   "metadata": {
    "collapsed": false,
    "pycharm": {
     "name": "#%%\n"
    }
   }
  }
 ],
 "metadata": {
  "kernelspec": {
   "display_name": "Python 3",
   "language": "python",
   "name": "python3"
  },
  "language_info": {
   "codemirror_mode": {
    "name": "ipython",
    "version": 2
   },
   "file_extension": ".py",
   "mimetype": "text/x-python",
   "name": "python",
   "nbconvert_exporter": "python",
   "pygments_lexer": "ipython2",
   "version": "2.7.6"
  }
 },
 "nbformat": 4,
 "nbformat_minor": 0
}