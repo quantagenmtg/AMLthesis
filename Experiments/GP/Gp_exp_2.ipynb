{
 "cells": [
  {
   "cell_type": "code",
   "execution_count": 1,
   "outputs": [],
   "source": [
    "from MainFiles.GP import *\n",
    "import matplotlib.pyplot as plt\n",
    "import numpy as np\n",
    "import torch\n",
    "import torch.distributions as tdb\n",
    "from Windowing import *"
   ],
   "metadata": {
    "collapsed": false,
    "pycharm": {
     "name": "#%%\n"
    }
   }
  },
  {
   "cell_type": "markdown",
   "source": [
    "# Introduction\n",
    "Here we check out what the multivariate gaussian distribution actually gives\n",
    "\n",
    "Also we try to max the probability of the distribution at the specific values"
   ],
   "metadata": {
    "collapsed": false,
    "pycharm": {
     "name": "#%% md\n"
    }
   }
  },
  {
   "cell_type": "markdown",
   "source": [
    "# Method\n",
    "We sample it for some parameters"
   ],
   "metadata": {
    "collapsed": false,
    "pycharm": {
     "name": "#%% md\n"
    }
   }
  },
  {
   "cell_type": "code",
   "execution_count": 2,
   "outputs": [],
   "source": [
    "def sing_cov(x,y,param):\n",
    "    sigma = param[-1]\n",
    "    if param[-1] == 0:\n",
    "        sigma = 1e-3\n",
    "    exponential1 = torch.sign(param[2]) * torch.pow(torch.abs(param[2]), param[1])\n",
    "    sum = x+y+param[1]\n",
    "    exponential2 = torch.sign(sum) * torch.pow(torch.abs(sum), param[0])\n",
    "    return exponential1 / exponential2 + sigma**2 * (x == y)"
   ],
   "metadata": {
    "collapsed": false,
    "pycharm": {
     "name": "#%%\n"
    }
   }
  },
  {
   "cell_type": "code",
   "execution_count": 76,
   "outputs": [
    {
     "ename": "AttributeError",
     "evalue": "'float' object has no attribute 'dim'",
     "output_type": "error",
     "traceback": [
      "\u001B[1;31m---------------------------------------------------------------------------\u001B[0m",
      "\u001B[1;31mAttributeError\u001B[0m                            Traceback (most recent call last)",
      "Input \u001B[1;32mIn [76]\u001B[0m, in \u001B[0;36m<cell line: 8>\u001B[1;34m()\u001B[0m\n\u001B[0;32m      5\u001B[0m means \u001B[38;5;241m=\u001B[39m torch\u001B[38;5;241m.\u001B[39mfull(ts\u001B[38;5;241m.\u001B[39mshape, \u001B[38;5;241m0.5\u001B[39m)\n\u001B[0;32m      6\u001B[0m cov \u001B[38;5;241m=\u001B[39m cov_kernel(ts,ts[\u001B[38;5;241m.\u001B[39m\u001B[38;5;241m.\u001B[39m\u001B[38;5;241m.\u001B[39m,\u001B[38;5;28;01mNone\u001B[39;00m],param)\n\u001B[1;32m----> 8\u001B[0m S \u001B[38;5;241m=\u001B[39m \u001B[43mtdb\u001B[49m\u001B[38;5;241;43m.\u001B[39;49m\u001B[43mMultivariateNormal\u001B[49m\u001B[43m(\u001B[49m\u001B[38;5;241;43m0.5\u001B[39;49m\u001B[43m,\u001B[49m\u001B[43mcov\u001B[49m\u001B[43m)\u001B[49m\u001B[38;5;241m.\u001B[39msample(sample_shape\u001B[38;5;241m=\u001B[39mtorch\u001B[38;5;241m.\u001B[39mSize([\u001B[38;5;241m1000\u001B[39m]))\u001B[38;5;241m.\u001B[39mmean(\u001B[38;5;241m0\u001B[39m)\n",
      "File \u001B[1;32m~\\Anaconda3\\envs\\AMLthesis\\lib\\site-packages\\torch\\distributions\\multivariate_normal.py:124\u001B[0m, in \u001B[0;36mMultivariateNormal.__init__\u001B[1;34m(self, loc, covariance_matrix, precision_matrix, scale_tril, validate_args)\u001B[0m\n\u001B[0;32m    123\u001B[0m \u001B[38;5;28;01mdef\u001B[39;00m \u001B[38;5;21m__init__\u001B[39m(\u001B[38;5;28mself\u001B[39m, loc, covariance_matrix\u001B[38;5;241m=\u001B[39m\u001B[38;5;28;01mNone\u001B[39;00m, precision_matrix\u001B[38;5;241m=\u001B[39m\u001B[38;5;28;01mNone\u001B[39;00m, scale_tril\u001B[38;5;241m=\u001B[39m\u001B[38;5;28;01mNone\u001B[39;00m, validate_args\u001B[38;5;241m=\u001B[39m\u001B[38;5;28;01mNone\u001B[39;00m):\n\u001B[1;32m--> 124\u001B[0m     \u001B[38;5;28;01mif\u001B[39;00m \u001B[43mloc\u001B[49m\u001B[38;5;241;43m.\u001B[39;49m\u001B[43mdim\u001B[49m() \u001B[38;5;241m<\u001B[39m \u001B[38;5;241m1\u001B[39m:\n\u001B[0;32m    125\u001B[0m         \u001B[38;5;28;01mraise\u001B[39;00m \u001B[38;5;167;01mValueError\u001B[39;00m(\u001B[38;5;124m\"\u001B[39m\u001B[38;5;124mloc must be at least one-dimensional.\u001B[39m\u001B[38;5;124m\"\u001B[39m)\n\u001B[0;32m    126\u001B[0m     \u001B[38;5;28;01mif\u001B[39;00m (covariance_matrix \u001B[38;5;129;01mis\u001B[39;00m \u001B[38;5;129;01mnot\u001B[39;00m \u001B[38;5;28;01mNone\u001B[39;00m) \u001B[38;5;241m+\u001B[39m (scale_tril \u001B[38;5;129;01mis\u001B[39;00m \u001B[38;5;129;01mnot\u001B[39;00m \u001B[38;5;28;01mNone\u001B[39;00m) \u001B[38;5;241m+\u001B[39m (precision_matrix \u001B[38;5;129;01mis\u001B[39;00m \u001B[38;5;129;01mnot\u001B[39;00m \u001B[38;5;28;01mNone\u001B[39;00m) \u001B[38;5;241m!=\u001B[39m \u001B[38;5;241m1\u001B[39m:\n",
      "\u001B[1;31mAttributeError\u001B[0m: 'float' object has no attribute 'dim'"
     ]
    }
   ],
   "source": [
    "ts = torch.tensor([16,   23,   32,   45,   64,   91,  128,  181,  256,  362,  512,\n",
    "        724, 1024, 1448, 2048])\n",
    "param = torch.tensor([0.1,0.3,0.01])\n",
    "\n",
    "means = torch.full(ts.shape, 0.5)\n",
    "cov = cov_kernel(ts,ts[...,None],param)\n",
    "\n",
    "S = tdb.MultivariateNormal(means,cov).sample(sample_shape=torch.Size([1000])).mean(0)\n"
   ],
   "metadata": {
    "collapsed": false,
    "pycharm": {
     "name": "#%%\n"
    }
   }
  },
  {
   "cell_type": "code",
   "execution_count": 53,
   "outputs": [
    {
     "data": {
      "text/plain": "[<matplotlib.lines.Line2D at 0x1dea8176dd0>]"
     },
     "execution_count": 53,
     "metadata": {},
     "output_type": "execute_result"
    },
    {
     "data": {
      "text/plain": "<Figure size 432x288 with 1 Axes>",
      "image/png": "[encoded data removed]"
     },
     "metadata": {},
     "output_type": "display_data"
    }
   ],
   "source": [
    "plt.plot(ts,S)"
   ],
   "metadata": {
    "collapsed": false,
    "pycharm": {
     "name": "#%%\n"
    }
   }
  },
  {
   "cell_type": "code",
   "execution_count": 29,
   "outputs": [
    {
     "data": {
      "text/plain": "torch.Size([1000, 15])"
     },
     "execution_count": 29,
     "metadata": {},
     "output_type": "execute_result"
    }
   ],
   "source": [
    "S.shape"
   ],
   "metadata": {
    "collapsed": false,
    "pycharm": {
     "name": "#%%\n"
    }
   }
  },
  {
   "cell_type": "code",
   "execution_count": 57,
   "outputs": [],
   "source": [
    "N = tdb.MultivariateNormal(means,cov)"
   ],
   "metadata": {
    "collapsed": false,
    "pycharm": {
     "name": "#%%\n"
    }
   }
  },
  {
   "cell_type": "code",
   "execution_count": 68,
   "outputs": [
    {
     "ename": "AttributeError",
     "evalue": "'MultivariateNormal' object has no attribute 'probs'",
     "output_type": "error",
     "traceback": [
      "\u001B[1;31m---------------------------------------------------------------------------\u001B[0m",
      "\u001B[1;31mAttributeError\u001B[0m                            Traceback (most recent call last)",
      "Input \u001B[1;32mIn [68]\u001B[0m, in \u001B[0;36m<cell line: 1>\u001B[1;34m()\u001B[0m\n\u001B[1;32m----> 1\u001B[0m \u001B[43mN\u001B[49m\u001B[38;5;241;43m.\u001B[39;49m\u001B[43mprobs\u001B[49m(S)\n",
      "\u001B[1;31mAttributeError\u001B[0m: 'MultivariateNormal' object has no attribute 'probs'"
     ]
    }
   ],
   "source": [
    "N.log_prob(S)"
   ],
   "metadata": {
    "collapsed": false,
    "pycharm": {
     "name": "#%%\n"
    }
   }
  },
  {
   "cell_type": "code",
   "execution_count": 66,
   "outputs": [
    {
     "data": {
      "text/plain": "8.659340042399374e+16"
     },
     "execution_count": 66,
     "metadata": {},
     "output_type": "execute_result"
    }
   ],
   "source": [
    "np.exp(39)"
   ],
   "metadata": {
    "collapsed": false,
    "pycharm": {
     "name": "#%%\n"
    }
   }
  },
  {
   "cell_type": "markdown",
   "source": [
    "# Method\n",
    "Ok so density can be arbitrarily high since for continuous only cdf counts so lets give this a try\n",
    "Now lets try to optimize the log_prob"
   ],
   "metadata": {
    "collapsed": false,
    "pycharm": {
     "name": "#%% md\n"
    }
   }
  },
  {
   "cell_type": "code",
   "execution_count": 3,
   "outputs": [
    {
     "data": {
      "text/plain": "            Count\nsize_train       \n16            245\n23            246\n32            246\n40              1\n45            244\n...           ...\n1048576         2\n1482910         1\n1486391         1\n2097152         1\n2205023         1\n\n[201 rows x 1 columns]",
      "text/html": "<div>\n<style scoped>\n    .dataframe tbody tr th:only-of-type {\n        vertical-align: middle;\n    }\n\n    .dataframe tbody tr th {\n        vertical-align: top;\n    }\n\n    .dataframe thead th {\n        text-align: right;\n    }\n</style>\n<table border=\"1\" class=\"dataframe\">\n  <thead>\n    <tr style=\"text-align: right;\">\n      <th></th>\n      <th>Count</th>\n    </tr>\n    <tr>\n      <th>size_train</th>\n      <th></th>\n    </tr>\n  </thead>\n  <tbody>\n    <tr>\n      <th>16</th>\n      <td>245</td>\n    </tr>\n    <tr>\n      <th>23</th>\n      <td>246</td>\n    </tr>\n    <tr>\n      <th>32</th>\n      <td>246</td>\n    </tr>\n    <tr>\n      <th>40</th>\n      <td>1</td>\n    </tr>\n    <tr>\n      <th>45</th>\n      <td>244</td>\n    </tr>\n    <tr>\n      <th>...</th>\n      <td>...</td>\n    </tr>\n    <tr>\n      <th>1048576</th>\n      <td>2</td>\n    </tr>\n    <tr>\n      <th>1482910</th>\n      <td>1</td>\n    </tr>\n    <tr>\n      <th>1486391</th>\n      <td>1</td>\n    </tr>\n    <tr>\n      <th>2097152</th>\n      <td>1</td>\n    </tr>\n    <tr>\n      <th>2205023</th>\n      <td>1</td>\n    </tr>\n  </tbody>\n</table>\n<p>201 rows × 1 columns</p>\n</div>"
     },
     "metadata": {},
     "output_type": "display_data"
    }
   ],
   "source": [
    "win = Windowing(aggCurves)\n",
    "win.set_points([16,   23,   32,   45,   64,   91,  128,  181,  256,  362,  512,\n",
    "        724, 1024, 1448, 2048, 2896])"
   ],
   "metadata": {
    "collapsed": false,
    "pycharm": {
     "name": "#%%\n"
    }
   }
  },
  {
   "cell_type": "code",
   "execution_count": 4,
   "outputs": [],
   "source": [
    "Y = torch.tensor(win.data[0,0,:,-1],dtype=torch.float)\n",
    "tts = torch.tensor([16,   23,   32,   45,   64,   91,  128,  181,  256,  362,  512,\n",
    "        724, 1024, 1448, 2048])"
   ],
   "metadata": {
    "collapsed": false,
    "pycharm": {
     "name": "#%%\n"
    }
   }
  },
  {
   "cell_type": "code",
   "execution_count": 6,
   "outputs": [
    {
     "name": "stdout",
     "output_type": "stream",
     "text": [
      "log_prob:  tensor(-28.8682, grad_fn=<NegBackward0>)\n",
      "params:  tensor([0.5000, 0.5000, 0.5000, 0.0100], requires_grad=True)\n",
      "log_prob:  tensor(-50.3453, grad_fn=<NegBackward0>)\n",
      "params:  tensor([ 0.5958,  0.4061,  0.5912, -0.0319], requires_grad=True)\n",
      "log_prob:  tensor(-52.2719, grad_fn=<NegBackward0>)\n",
      "params:  tensor([ 0.6698,  0.3449,  0.6406, -0.0430], requires_grad=True)\n",
      "log_prob:  tensor(-52.6223, grad_fn=<NegBackward0>)\n",
      "params:  tensor([ 0.7214,  0.3177,  0.6540, -0.0473], requires_grad=True)\n",
      "log_prob:  tensor(-52.8472, grad_fn=<NegBackward0>)\n",
      "params:  tensor([ 0.7589,  0.3132,  0.6469, -0.0490], requires_grad=True)\n",
      "log_prob:  tensor(-53.1147, grad_fn=<NegBackward0>)\n",
      "params:  tensor([ 0.7897,  0.3222,  0.6282, -0.0496], requires_grad=True)\n",
      "log_prob:  tensor(-53.4009, grad_fn=<NegBackward0>)\n",
      "params:  tensor([ 0.8186,  0.3397,  0.6014, -0.0499], requires_grad=True)\n",
      "log_prob:  tensor(-53.7942, grad_fn=<NegBackward0>)\n",
      "params:  tensor([ 0.8486,  0.3633,  0.5677, -0.0500], requires_grad=True)\n",
      "log_prob:  tensor(-54.3536, grad_fn=<NegBackward0>)\n",
      "params:  tensor([ 0.8814,  0.3923,  0.5266, -0.0500], requires_grad=True)\n",
      "log_prob:  tensor(-55.0037, grad_fn=<NegBackward0>)\n",
      "params:  tensor([ 0.9174,  0.4269,  0.4768, -0.0500], requires_grad=True)\n",
      "log_prob:  tensor(-55.7940, grad_fn=<NegBackward0>)\n",
      "params:  tensor([ 0.9548,  0.4681,  0.4154, -0.0501], requires_grad=True)\n",
      "log_prob:  tensor(-56.6853, grad_fn=<NegBackward0>)\n",
      "params:  tensor([ 0.9872,  0.5159,  0.3399, -0.0501], requires_grad=True)\n",
      "log_prob:  tensor(-57.5413, grad_fn=<NegBackward0>)\n",
      "params:  tensor([ 1.0004,  0.5680,  0.2517, -0.0501], requires_grad=True)\n",
      "log_prob:  tensor(-58.2896, grad_fn=<NegBackward0>)\n",
      "params:  tensor([ 0.9857,  0.6189,  0.1649, -0.0501], requires_grad=True)\n",
      "log_prob:  tensor(-58.6205, grad_fn=<NegBackward0>)\n",
      "params:  tensor([ 0.9834,  0.6630,  0.1337, -0.0501], requires_grad=True)\n",
      "log_prob:  tensor(-58.9657, grad_fn=<NegBackward0>)\n",
      "params:  tensor([ 0.9829,  0.6981,  0.1928, -0.0501], requires_grad=True)\n",
      "log_prob:  tensor(-59.2694, grad_fn=<NegBackward0>)\n",
      "params:  tensor([ 0.9841,  0.7323,  0.2504, -0.0501], requires_grad=True)\n",
      "log_prob:  tensor(-59.5485, grad_fn=<NegBackward0>)\n",
      "params:  tensor([ 0.9822,  0.7677,  0.2899, -0.0501], requires_grad=True)\n",
      "log_prob:  tensor(-59.8108, grad_fn=<NegBackward0>)\n",
      "params:  tensor([ 0.9817,  0.8025,  0.3267, -0.0501], requires_grad=True)\n",
      "log_prob:  tensor(-60.0555, grad_fn=<NegBackward0>)\n",
      "params:  tensor([ 0.9814,  0.8357,  0.3689, -0.0501], requires_grad=True)\n",
      "log_prob:  tensor(-60.2808, grad_fn=<NegBackward0>)\n",
      "params:  tensor([ 0.9811,  0.8672,  0.4168, -0.0501], requires_grad=True)\n",
      "log_prob:  tensor(-60.4902, grad_fn=<NegBackward0>)\n",
      "params:  tensor([ 0.9807,  0.8973,  0.4676, -0.0501], requires_grad=True)\n",
      "log_prob:  tensor(-60.6831, grad_fn=<NegBackward0>)\n",
      "params:  tensor([ 0.9805,  0.9260,  0.5196, -0.0501], requires_grad=True)\n",
      "log_prob:  tensor(-60.8603, grad_fn=<NegBackward0>)\n",
      "params:  tensor([ 0.9801,  0.9536,  0.5722, -0.0501], requires_grad=True)\n",
      "log_prob:  tensor(-61.0280, grad_fn=<NegBackward0>)\n",
      "params:  tensor([ 0.9798,  0.9800,  0.6255, -0.0501], requires_grad=True)\n",
      "log_prob:  tensor(-61.1789, grad_fn=<NegBackward0>)\n",
      "params:  tensor([ 0.9796,  1.0051,  0.6794, -0.0501], requires_grad=True)\n",
      "log_prob:  tensor(-61.3176, grad_fn=<NegBackward0>)\n",
      "params:  tensor([ 0.9793,  1.0289,  0.7337, -0.0501], requires_grad=True)\n",
      "log_prob:  tensor(-61.4482, grad_fn=<NegBackward0>)\n",
      "params:  tensor([ 0.9791,  1.0515,  0.7881, -0.0501], requires_grad=True)\n",
      "log_prob:  tensor(-61.5673, grad_fn=<NegBackward0>)\n",
      "params:  tensor([ 0.9789,  1.0730,  0.8427, -0.0501], requires_grad=True)\n",
      "log_prob:  tensor(-61.6786, grad_fn=<NegBackward0>)\n",
      "params:  tensor([ 0.9787,  1.0933,  0.8973, -0.0501], requires_grad=True)\n",
      "log_prob:  tensor(-61.7813, grad_fn=<NegBackward0>)\n",
      "params:  tensor([ 0.9785,  1.1126,  0.9516, -0.0501], requires_grad=True)\n",
      "log_prob:  tensor(-61.8765, grad_fn=<NegBackward0>)\n",
      "params:  tensor([ 0.9784,  1.1309,  1.0056, -0.0501], requires_grad=True)\n",
      "log_prob:  tensor(-61.9621, grad_fn=<NegBackward0>)\n",
      "params:  tensor([ 0.9782,  1.1483,  1.0591, -0.0501], requires_grad=True)\n",
      "log_prob:  tensor(-62.0453, grad_fn=<NegBackward0>)\n",
      "params:  tensor([ 0.9781,  1.1648,  1.1121, -0.0501], requires_grad=True)\n",
      "log_prob:  tensor(-62.1201, grad_fn=<NegBackward0>)\n",
      "params:  tensor([ 0.9780,  1.1805,  1.1646, -0.0501], requires_grad=True)\n",
      "log_prob:  tensor(-62.1915, grad_fn=<NegBackward0>)\n",
      "params:  tensor([ 0.9779,  1.1954,  1.2165, -0.0501], requires_grad=True)\n",
      "log_prob:  tensor(-62.2574, grad_fn=<NegBackward0>)\n",
      "params:  tensor([ 0.9777,  1.2097,  1.2677, -0.0501], requires_grad=True)\n",
      "log_prob:  tensor(-62.3188, grad_fn=<NegBackward0>)\n",
      "params:  tensor([ 0.9776,  1.2232,  1.3183, -0.0501], requires_grad=True)\n",
      "log_prob:  tensor(-62.3758, grad_fn=<NegBackward0>)\n",
      "params:  tensor([ 0.9775,  1.2362,  1.3682, -0.0501], requires_grad=True)\n",
      "log_prob:  tensor(-62.3713, grad_fn=<NegBackward0>)\n",
      "params:  tensor([ 0.9755,  1.2485,  1.4174, -0.0501], requires_grad=True)\n",
      "log_prob:  tensor(-62.4424, grad_fn=<NegBackward0>)\n",
      "params:  tensor([ 0.9789,  1.2591,  1.4671, -0.0501], requires_grad=True)\n",
      "log_prob:  tensor(-62.5196, grad_fn=<NegBackward0>)\n",
      "params:  tensor([ 0.9781,  1.2695,  1.5153, -0.0501], requires_grad=True)\n",
      "log_prob:  tensor(-62.5718, grad_fn=<NegBackward0>)\n",
      "params:  tensor([ 0.9775,  1.2805,  1.5617, -0.0501], requires_grad=True)\n",
      "log_prob:  tensor(-62.6146, grad_fn=<NegBackward0>)\n",
      "params:  tensor([ 0.9770,  1.2914,  1.6070, -0.0501], requires_grad=True)\n",
      "log_prob:  tensor(-62.6566, grad_fn=<NegBackward0>)\n",
      "params:  tensor([ 0.9770,  1.3020,  1.6519, -0.0501], requires_grad=True)\n",
      "log_prob:  tensor(-62.6950, grad_fn=<NegBackward0>)\n",
      "params:  tensor([ 0.9771,  1.3120,  1.6964, -0.0501], requires_grad=True)\n",
      "log_prob:  tensor(-62.7325, grad_fn=<NegBackward0>)\n",
      "params:  tensor([ 0.9769,  1.3215,  1.7406, -0.0501], requires_grad=True)\n",
      "log_prob:  tensor(-62.7664, grad_fn=<NegBackward0>)\n",
      "params:  tensor([ 0.9769,  1.3306,  1.7845, -0.0501], requires_grad=True)\n",
      "log_prob:  tensor(-62.8000, grad_fn=<NegBackward0>)\n",
      "params:  tensor([ 0.9768,  1.3393,  1.8279, -0.0501], requires_grad=True)\n",
      "log_prob:  tensor(-62.8313, grad_fn=<NegBackward0>)\n",
      "params:  tensor([ 0.9768,  1.3476,  1.8707, -0.0501], requires_grad=True)\n",
      "log_prob:  tensor(-62.8607, grad_fn=<NegBackward0>)\n",
      "params:  tensor([ 0.9767,  1.3557,  1.9129, -0.0501], requires_grad=True)\n",
      "log_prob:  tensor(-62.8896, grad_fn=<NegBackward0>)\n",
      "params:  tensor([ 0.9767,  1.3636,  1.9546, -0.0501], requires_grad=True)\n",
      "log_prob:  tensor(-62.8094, grad_fn=<NegBackward0>)\n",
      "params:  tensor([ 0.9788,  1.3711,  1.9957, -0.0501], requires_grad=True)\n",
      "log_prob:  tensor(-62.9426, grad_fn=<NegBackward0>)\n",
      "params:  tensor([ 0.9766,  1.3767,  2.0373, -0.0501], requires_grad=True)\n",
      "log_prob:  tensor(-62.9631, grad_fn=<NegBackward0>)\n",
      "params:  tensor([ 0.9770,  1.3831,  2.0775, -0.0501], requires_grad=True)\n",
      "log_prob:  tensor(-62.9872, grad_fn=<NegBackward0>)\n",
      "params:  tensor([ 0.9762,  1.3902,  2.1161, -0.0501], requires_grad=True)\n",
      "log_prob:  tensor(-63.0125, grad_fn=<NegBackward0>)\n",
      "params:  tensor([ 0.9767,  1.3976,  2.1539, -0.0501], requires_grad=True)\n",
      "log_prob:  tensor(-63.0356, grad_fn=<NegBackward0>)\n",
      "params:  tensor([ 0.9764,  1.4048,  2.1915, -0.0501], requires_grad=True)\n",
      "log_prob:  tensor(-63.0569, grad_fn=<NegBackward0>)\n",
      "params:  tensor([ 0.9763,  1.4116,  2.2289, -0.0501], requires_grad=True)\n",
      "log_prob:  tensor(-63.0784, grad_fn=<NegBackward0>)\n",
      "params:  tensor([ 0.9763,  1.4180,  2.2662, -0.0501], requires_grad=True)\n",
      "log_prob:  tensor(-63.0975, grad_fn=<NegBackward0>)\n",
      "params:  tensor([ 0.9763,  1.4241,  2.3032, -0.0501], requires_grad=True)\n",
      "log_prob:  tensor(-63.1161, grad_fn=<NegBackward0>)\n",
      "params:  tensor([ 0.9763,  1.4300,  2.3399, -0.0501], requires_grad=True)\n",
      "log_prob:  tensor(-63.1346, grad_fn=<NegBackward0>)\n",
      "params:  tensor([ 0.9763,  1.4357,  2.3762, -0.0501], requires_grad=True)\n",
      "log_prob:  tensor(-63.1517, grad_fn=<NegBackward0>)\n",
      "params:  tensor([ 0.9763,  1.4413,  2.4120, -0.0501], requires_grad=True)\n",
      "log_prob:  tensor(-63.1690, grad_fn=<NegBackward0>)\n",
      "params:  tensor([ 0.9762,  1.4468,  2.4475, -0.0501], requires_grad=True)\n",
      "log_prob:  tensor(-63.0642, grad_fn=<NegBackward0>)\n",
      "params:  tensor([ 0.9743,  1.4518,  2.4827, -0.0501], requires_grad=True)\n",
      "log_prob:  tensor(-63.1831, grad_fn=<NegBackward0>)\n",
      "params:  tensor([ 0.9755,  1.4551,  2.5184, -0.0501], requires_grad=True)\n",
      "log_prob:  tensor(-63.2021, grad_fn=<NegBackward0>)\n",
      "params:  tensor([ 0.9768,  1.4595,  2.5527, -0.0501], requires_grad=True)\n",
      "log_prob:  tensor(-63.2249, grad_fn=<NegBackward0>)\n",
      "params:  tensor([ 0.9758,  1.4648,  2.5856, -0.0501], requires_grad=True)\n",
      "log_prob:  tensor(-63.2432, grad_fn=<NegBackward0>)\n",
      "params:  tensor([ 0.9761,  1.4706,  2.6179, -0.0501], requires_grad=True)\n",
      "log_prob:  tensor(-63.2556, grad_fn=<NegBackward0>)\n",
      "params:  tensor([ 0.9762,  1.4761,  2.6501, -0.0501], requires_grad=True)\n",
      "log_prob:  tensor(-63.2699, grad_fn=<NegBackward0>)\n",
      "params:  tensor([ 0.9761,  1.4812,  2.6824, -0.0501], requires_grad=True)\n",
      "log_prob:  tensor(-63.2829, grad_fn=<NegBackward0>)\n",
      "params:  tensor([ 0.9761,  1.4860,  2.7147, -0.0501], requires_grad=True)\n",
      "log_prob:  tensor(-63.2951, grad_fn=<NegBackward0>)\n",
      "params:  tensor([ 0.9760,  1.4906,  2.7468, -0.0501], requires_grad=True)\n",
      "log_prob:  tensor(-63.3078, grad_fn=<NegBackward0>)\n",
      "params:  tensor([ 0.9760,  1.4949,  2.7787, -0.0501], requires_grad=True)\n",
      "log_prob:  tensor(-63.3191, grad_fn=<NegBackward0>)\n",
      "params:  tensor([ 0.9760,  1.4992,  2.8103, -0.0501], requires_grad=True)\n",
      "log_prob:  tensor(-63.3305, grad_fn=<NegBackward0>)\n",
      "params:  tensor([ 0.9759,  1.5034,  2.8415, -0.0501], requires_grad=True)\n",
      "log_prob:  tensor(-63.3413, grad_fn=<NegBackward0>)\n",
      "params:  tensor([ 0.9758,  1.5075,  2.8725, -0.0501], requires_grad=True)\n",
      "log_prob:  tensor(-63.2811, grad_fn=<NegBackward0>)\n",
      "params:  tensor([ 0.9745,  1.5114,  2.9032, -0.0501], requires_grad=True)\n",
      "log_prob:  tensor(-63.3560, grad_fn=<NegBackward0>)\n",
      "params:  tensor([ 0.9755,  1.5136,  2.9345, -0.0501], requires_grad=True)\n",
      "log_prob:  tensor(-63.3587, grad_fn=<NegBackward0>)\n",
      "params:  tensor([ 0.9753,  1.5167,  2.9646, -0.0501], requires_grad=True)\n",
      "log_prob:  tensor(-63.3810, grad_fn=<NegBackward0>)\n",
      "params:  tensor([ 0.9757,  1.5209,  2.9935, -0.0501], requires_grad=True)\n",
      "log_prob:  tensor(-63.3907, grad_fn=<NegBackward0>)\n",
      "params:  tensor([ 0.9759,  1.5256,  3.0219, -0.0501], requires_grad=True)\n",
      "log_prob:  tensor(-63.4010, grad_fn=<NegBackward0>)\n",
      "params:  tensor([ 0.9758,  1.5301,  3.0502, -0.0501], requires_grad=True)\n",
      "log_prob:  tensor(-63.4094, grad_fn=<NegBackward0>)\n",
      "params:  tensor([ 0.9757,  1.5342,  3.0787, -0.0501], requires_grad=True)\n",
      "log_prob:  tensor(-63.4175, grad_fn=<NegBackward0>)\n",
      "params:  tensor([ 0.9757,  1.5380,  3.1072, -0.0501], requires_grad=True)\n",
      "log_prob:  tensor(-63.4265, grad_fn=<NegBackward0>)\n",
      "params:  tensor([ 0.9758,  1.5416,  3.1357, -0.0501], requires_grad=True)\n",
      "log_prob:  tensor(-63.4354, grad_fn=<NegBackward0>)\n",
      "params:  tensor([ 0.9757,  1.5450,  3.1639, -0.0501], requires_grad=True)\n",
      "log_prob:  tensor(-63.4433, grad_fn=<NegBackward0>)\n",
      "params:  tensor([ 0.9757,  1.5484,  3.1919, -0.0501], requires_grad=True)\n",
      "log_prob:  tensor(-63.4507, grad_fn=<NegBackward0>)\n",
      "params:  tensor([ 0.9757,  1.5518,  3.2197, -0.0501], requires_grad=True)\n",
      "log_prob:  tensor(-63.4300, grad_fn=<NegBackward0>)\n",
      "params:  tensor([ 0.9749,  1.5550,  3.2473, -0.0501], requires_grad=True)\n",
      "log_prob:  tensor(-63.4247, grad_fn=<NegBackward0>)\n",
      "params:  tensor([ 0.9767,  1.5562,  3.2756, -0.0501], requires_grad=True)\n",
      "log_prob:  tensor(-63.4724, grad_fn=<NegBackward0>)\n",
      "params:  tensor([ 0.9756,  1.5580,  3.3030, -0.0501], requires_grad=True)\n",
      "log_prob:  tensor(-63.4723, grad_fn=<NegBackward0>)\n",
      "params:  tensor([ 0.9753,  1.5615,  3.3289, -0.0501], requires_grad=True)\n",
      "log_prob:  tensor(-63.4860, grad_fn=<NegBackward0>)\n",
      "params:  tensor([ 0.9755,  1.5658,  3.3541, -0.0501], requires_grad=True)\n",
      "log_prob:  tensor(-63.4931, grad_fn=<NegBackward0>)\n",
      "params:  tensor([ 0.9756,  1.5699,  3.3793, -0.0501], requires_grad=True)\n",
      "log_prob:  tensor(-63.4992, grad_fn=<NegBackward0>)\n",
      "params:  tensor([ 0.9756,  1.5736,  3.4049, -0.0501], requires_grad=True)\n",
      "log_prob:  tensor(-63.5059, grad_fn=<NegBackward0>)\n",
      "params:  tensor([ 0.9755,  1.5769,  3.4306, -0.0501], requires_grad=True)\n",
      "log_prob:  tensor(-63.5129, grad_fn=<NegBackward0>)\n",
      "params:  tensor([ 0.9756,  1.5799,  3.4563, -0.0501], requires_grad=True)\n",
      "log_prob:  tensor(-63.5182, grad_fn=<NegBackward0>)\n",
      "params:  tensor([ 0.9756,  1.5827,  3.4820, -0.0501], requires_grad=True)\n"
     ]
    },
    {
     "data": {
      "text/plain": "tensor([ 0.9756,  1.5855,  3.5074, -0.0501])"
     },
     "execution_count": 6,
     "metadata": {},
     "output_type": "execute_result"
    }
   ],
   "source": [
    "params = torch.tensor([0.5,0.5,0.5,0.01]).requires_grad_(True)\n",
    "\n",
    "ts = tts\n",
    "optimizer = torch.optim.Adam([params], lr=0.01)\n",
    "losses = []\n",
    "nan = torch.isnan(Y)\n",
    "nan_ind = torch.where(nan)[0]\n",
    "Y = torch.where(nan, torch.tensor(0.0), Y)\n",
    "for i in range(1000):\n",
    "    optimizer.zero_grad()\n",
    "    means = params[0].repeat(ts.shape[0])\n",
    "    cov = cov_kernel(ts,ts[...,None],params[1:])\n",
    "    cov[nan,:] = 0\n",
    "    cov.transpose(-1,-2)[nan,:] = 0\n",
    "    cov[nan_ind,nan_ind] = 1\n",
    "    N = tdb.MultivariateNormal(means,cov)\n",
    "    loss = -N.log_prob(Y)\n",
    "    losses.append(loss.item())\n",
    "    if i % 10 == 0:\n",
    "        print(\"log_prob: \",loss)\n",
    "        print(\"params: \",params)\n",
    "    loss.backward()\n",
    "    optimizer.step()\n",
    "\n",
    "    # stop loop if last 10 losses are the same rounded to 3 decimals\n",
    "    if len(losses) > 10:\n",
    "        if np.mean(losses[-10:]) == losses[-1]:\n",
    "            print(\"Stopped at iteration: \",i)\n",
    "            break\n",
    "\n",
    "params.requires_grad_(False)"
   ],
   "metadata": {
    "collapsed": false,
    "pycharm": {
     "name": "#%%\n"
    }
   }
  },
  {
   "cell_type": "code",
   "execution_count": 7,
   "outputs": [
    {
     "data": {
      "text/plain": "Text(0.5, 1.0, 'Loss')"
     },
     "execution_count": 7,
     "metadata": {},
     "output_type": "execute_result"
    },
    {
     "data": {
      "text/plain": "<Figure size 432x288 with 1 Axes>",
      "image/png": "[encoded data removed]"
     },
     "metadata": {
      "needs_background": "light"
     },
     "output_type": "display_data"
    }
   ],
   "source": [
    "plt.plot(torch.tensor(losses).detach().numpy())\n",
    "plt.title(\"Loss\")"
   ],
   "metadata": {
    "collapsed": false,
    "pycharm": {
     "name": "#%%\n"
    }
   }
  },
  {
   "cell_type": "code",
   "execution_count": 11,
   "outputs": [
    {
     "data": {
      "text/plain": "<matplotlib.legend.Legend at 0x21681a13460>"
     },
     "execution_count": 11,
     "metadata": {},
     "output_type": "execute_result"
    },
    {
     "data": {
      "text/plain": "<Figure size 432x288 with 1 Axes>",
      "image/png": "[encoded data removed]"
     },
     "metadata": {
      "needs_background": "light"
     },
     "output_type": "display_data"
    }
   ],
   "source": [
    "# Now lets compare\n",
    "plt.plot(tts,torch.tensor(win.data[0,0,:,-1],dtype=torch.float), label=\"Original\")\n",
    "\n",
    "# We sample 1000 times and take the mean\n",
    "means = params[0].repeat(tts.shape[0])\n",
    "cov = cov_kernel(tts,tts[...,None],params[1:])\n",
    "\n",
    "S = tdb.MultivariateNormal(means,cov).sample(sample_shape=torch.Size([1000])).mean(0)\n",
    "plt.plot(tts,S, label=\"Sampled\")\n",
    "\n",
    "plt.title(\"Original vs Sampled\")\n",
    "plt.legend()\n"
   ],
   "metadata": {
    "collapsed": false,
    "pycharm": {
     "name": "#%%\n"
    }
   }
  },
  {
   "cell_type": "code",
   "execution_count": 9,
   "outputs": [
    {
     "data": {
      "text/plain": "Text(0.5, 1.0, 'Sampled')"
     },
     "execution_count": 9,
     "metadata": {},
     "output_type": "execute_result"
    },
    {
     "data": {
      "text/plain": "<Figure size 432x288 with 1 Axes>",
      "image/png": "[encoded data removed]"
     },
     "metadata": {
      "needs_background": "light"
     },
     "output_type": "display_data"
    }
   ],
   "source": [
    "# We sample 1000 times and take the mean\n",
    "means = params[0].repeat(ts.shape[0])\n",
    "cov = cov_kernel(ts,ts[...,None],params[1:])\n",
    "\n",
    "S = tdb.MultivariateNormal(means,cov).sample(sample_shape=torch.Size([1000])).mean(0)\n",
    "plt.plot(ts,S)\n",
    "plt.title(\"Sampled\")"
   ],
   "metadata": {
    "collapsed": false,
    "pycharm": {
     "name": "#%%\n"
    }
   }
  },
  {
   "cell_type": "markdown",
   "source": [
    "# Conclusion\n",
    "Looks like these are the things that solved it:\n",
    "- tricking torch into doing exponentials of negative numbers (by using torch.sign) as it can't do (-2)^0.5\n",
    "- using a small sigma clamp (so sigma can't be lower than 0.001) to avoid non postive definite covariance matrix. This is because it kept trying to go to sigma = 0"
   ],
   "metadata": {
    "collapsed": false,
    "pycharm": {
     "name": "#%% md\n"
    }
   }
  }
 ],
 "metadata": {
  "kernelspec": {
   "display_name": "Python 3",
   "language": "python",
   "name": "python3"
  },
  "language_info": {
   "codemirror_mode": {
    "name": "ipython",
    "version": 2
   },
   "file_extension": ".py",
   "mimetype": "text/x-python",
   "name": "python",
   "nbconvert_exporter": "python",
   "pygments_lexer": "ipython2",
   "version": "2.7.6"
  }
 },
 "nbformat": 4,
 "nbformat_minor": 0
}